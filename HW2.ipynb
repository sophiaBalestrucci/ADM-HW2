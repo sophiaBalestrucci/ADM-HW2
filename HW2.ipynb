{
 "cells": [
  {
   "cell_type": "markdown",
   "id": "58bbc6d3-e381-4bca-8274-f37ab3ec2f54",
   "metadata": {},
   "source": [
    "# Q1"
   ]
  },
  {
   "cell_type": "markdown",
   "id": "966b6479-03ab-4a9a-aead-ab6f806dcc5a",
   "metadata": {},
   "source": [
    "After collecting information, the Data Scientists have to know what dataset they are dealing with, so let's start with an Exploratory Data Analysis (EDA). What can you say about our datasets? Please summarise its main characteristics with visual and tabular methods."
   ]
  },
  {
   "cell_type": "code",
   "execution_count": 19,
   "id": "c8acf56e-b372-4cd4-b5c6-3480ca5907cd",
   "metadata": {},
   "outputs": [
    {
     "name": "stderr",
     "output_type": "stream",
     "text": [
      "/tmp/ipykernel_7240/73715923.py:1: FutureWarning: null_counts is deprecated. Use show_counts instead\n",
      "  print(data_prof.info(verbose=True,null_counts=True))\n"
     ]
    },
    {
     "name": "stdout",
     "output_type": "stream",
     "text": [
      "<class 'pandas.core.frame.DataFrame'>\n",
      "RangeIndex: 4509586 entries, 0 to 4509585\n",
      "Data columns (total 11 columns):\n",
      " #   Column               Non-Null Count    Dtype  \n",
      "---  ------               --------------    -----  \n",
      " 0   sid                  4509586 non-null  int64  \n",
      " 1   profile_id           4477139 non-null  float64\n",
      " 2   profile_name         4509586 non-null  object \n",
      " 3   firstname_lastname   4221121 non-null  object \n",
      " 4   description          2453590 non-null  object \n",
      " 5   following            3452771 non-null  float64\n",
      " 6   followers            3452771 non-null  float64\n",
      " 7   n_posts              3452771 non-null  float64\n",
      " 8   url                  870274 non-null   object \n",
      " 9   cts                  4071098 non-null  object \n",
      " 10  is_business_account  3445323 non-null  object \n",
      "dtypes: float64(4), int64(1), object(6)\n",
      "memory usage: 378.5+ MB\n",
      "None\n"
     ]
    }
   ],
   "source": [
    "print(data_prof.info(verbose=True,null_counts=True))"
   ]
  },
  {
   "cell_type": "markdown",
   "id": "fe373031-0607-467c-9369-ccf9654e0ecd",
   "metadata": {},
   "source": [
    "** Description"
   ]
  },
  {
   "cell_type": "code",
   "execution_count": 3,
   "id": "2aed131c-7aca-4f91-835c-fea89a535a5d",
   "metadata": {},
   "outputs": [
    {
     "name": "stderr",
     "output_type": "stream",
     "text": [
      "/tmp/ipykernel_23989/91558128.py:2: FutureWarning: null_counts is deprecated. Use show_counts instead\n",
      "  print(chunk.info(verbose=True,null_counts=True))\n"
     ]
    },
    {
     "name": "stdout",
     "output_type": "stream",
     "text": [
      "<class 'pandas.core.frame.DataFrame'>\n",
      "RangeIndex: 5000000 entries, 0 to 4999999\n",
      "Data columns (total 10 columns):\n",
      " #   Column           Non-Null Count    Dtype  \n",
      "---  ------           --------------    -----  \n",
      " 0   sid              5000000 non-null  int64  \n",
      " 1   sid_profile      5000000 non-null  int64  \n",
      " 2   post_id          5000000 non-null  object \n",
      " 3   profile_id       4999863 non-null  float64\n",
      " 4   location_id      4993723 non-null  float64\n",
      " 5   cts              5000000 non-null  object \n",
      " 6   post_type        5000000 non-null  int64  \n",
      " 7   description      4586011 non-null  object \n",
      " 8   numbr_likes      5000000 non-null  int64  \n",
      " 9   number_comments  5000000 non-null  int64  \n",
      "dtypes: float64(2), int64(5), object(3)\n",
      "memory usage: 381.5+ MB\n",
      "None\n",
      "<class 'pandas.core.frame.DataFrame'>\n",
      "RangeIndex: 5000000 entries, 5000000 to 9999999\n",
      "Data columns (total 10 columns):\n",
      " #   Column           Non-Null Count    Dtype  \n",
      "---  ------           --------------    -----  \n",
      " 0   sid              5000000 non-null  int64  \n",
      " 1   sid_profile      5000000 non-null  int64  \n",
      " 2   post_id          5000000 non-null  object \n",
      " 3   profile_id       4987642 non-null  float64\n",
      " 4   location_id      4688536 non-null  float64\n",
      " 5   cts              5000000 non-null  object \n",
      " 6   post_type        5000000 non-null  int64  \n",
      " 7   description      4531539 non-null  object \n",
      " 8   numbr_likes      5000000 non-null  int64  \n",
      " 9   number_comments  5000000 non-null  int64  \n",
      "dtypes: float64(2), int64(5), object(3)\n",
      "memory usage: 381.5+ MB\n",
      "None\n",
      "<class 'pandas.core.frame.DataFrame'>\n",
      "RangeIndex: 5000000 entries, 10000000 to 14999999\n",
      "Data columns (total 10 columns):\n",
      " #   Column           Non-Null Count    Dtype  \n",
      "---  ------           --------------    -----  \n",
      " 0   sid              5000000 non-null  int64  \n",
      " 1   sid_profile      5000000 non-null  int64  \n",
      " 2   post_id          5000000 non-null  object \n",
      " 3   profile_id       4960293 non-null  float64\n",
      " 4   location_id      3583342 non-null  float64\n",
      " 5   cts              5000000 non-null  object \n",
      " 6   post_type        5000000 non-null  int64  \n",
      " 7   description      4602756 non-null  object \n",
      " 8   numbr_likes      5000000 non-null  int64  \n",
      " 9   number_comments  5000000 non-null  int64  \n",
      "dtypes: float64(2), int64(5), object(3)\n",
      "memory usage: 381.5+ MB\n",
      "None\n",
      "<class 'pandas.core.frame.DataFrame'>\n",
      "RangeIndex: 5000000 entries, 15000000 to 19999999\n",
      "Data columns (total 10 columns):\n",
      " #   Column           Non-Null Count    Dtype  \n",
      "---  ------           --------------    -----  \n",
      " 0   sid              5000000 non-null  int64  \n",
      " 1   sid_profile      5000000 non-null  int64  \n",
      " 2   post_id          5000000 non-null  object \n",
      " 3   profile_id       3129538 non-null  float64\n",
      " 4   location_id      2575441 non-null  float64\n",
      " 5   cts              4996668 non-null  object \n",
      " 6   post_type        5000000 non-null  int64  \n",
      " 7   description      4625028 non-null  object \n",
      " 8   numbr_likes      4999964 non-null  float64\n",
      " 9   number_comments  4999964 non-null  float64\n",
      "dtypes: float64(4), int64(3), object(3)\n",
      "memory usage: 381.5+ MB\n",
      "None\n",
      "<class 'pandas.core.frame.DataFrame'>\n",
      "RangeIndex: 5000000 entries, 20000000 to 24999999\n",
      "Data columns (total 10 columns):\n",
      " #   Column           Non-Null Count    Dtype  \n",
      "---  ------           --------------    -----  \n",
      " 0   sid              5000000 non-null  int64  \n",
      " 1   sid_profile      5000000 non-null  int64  \n",
      " 2   post_id          5000000 non-null  object \n",
      " 3   profile_id       4380502 non-null  float64\n",
      " 4   location_id      1962508 non-null  float64\n",
      " 5   cts              5000000 non-null  object \n",
      " 6   post_type        5000000 non-null  int64  \n",
      " 7   description      4472430 non-null  object \n",
      " 8   numbr_likes      5000000 non-null  int64  \n",
      " 9   number_comments  5000000 non-null  int64  \n",
      "dtypes: float64(2), int64(5), object(3)\n",
      "memory usage: 381.5+ MB\n",
      "None\n",
      "<class 'pandas.core.frame.DataFrame'>\n",
      "RangeIndex: 5000000 entries, 25000000 to 29999999\n",
      "Data columns (total 10 columns):\n",
      " #   Column           Non-Null Count    Dtype  \n",
      "---  ------           --------------    -----  \n",
      " 0   sid              5000000 non-null  int64  \n",
      " 1   sid_profile      5000000 non-null  int64  \n",
      " 2   post_id          5000000 non-null  object \n",
      " 3   profile_id       4959764 non-null  float64\n",
      " 4   location_id      2826622 non-null  float64\n",
      " 5   cts              5000000 non-null  object \n",
      " 6   post_type        5000000 non-null  int64  \n",
      " 7   description      4485961 non-null  object \n",
      " 8   numbr_likes      5000000 non-null  int64  \n",
      " 9   number_comments  5000000 non-null  int64  \n",
      "dtypes: float64(2), int64(5), object(3)\n",
      "memory usage: 381.5+ MB\n",
      "None\n",
      "<class 'pandas.core.frame.DataFrame'>\n",
      "RangeIndex: 5000000 entries, 30000000 to 34999999\n",
      "Data columns (total 10 columns):\n",
      " #   Column           Non-Null Count    Dtype  \n",
      "---  ------           --------------    -----  \n",
      " 0   sid              5000000 non-null  int64  \n",
      " 1   sid_profile      5000000 non-null  int64  \n",
      " 2   post_id          5000000 non-null  object \n",
      " 3   profile_id       4999493 non-null  float64\n",
      " 4   location_id      2889868 non-null  float64\n",
      " 5   cts              5000000 non-null  object \n",
      " 6   post_type        5000000 non-null  int64  \n",
      " 7   description      4470576 non-null  object \n",
      " 8   numbr_likes      5000000 non-null  int64  \n",
      " 9   number_comments  5000000 non-null  int64  \n",
      "dtypes: float64(2), int64(5), object(3)\n",
      "memory usage: 381.5+ MB\n",
      "None\n",
      "<class 'pandas.core.frame.DataFrame'>\n",
      "RangeIndex: 5000000 entries, 35000000 to 39999999\n",
      "Data columns (total 10 columns):\n",
      " #   Column           Non-Null Count    Dtype  \n",
      "---  ------           --------------    -----  \n",
      " 0   sid              5000000 non-null  int64  \n",
      " 1   sid_profile      5000000 non-null  int64  \n",
      " 2   post_id          5000000 non-null  object \n",
      " 3   profile_id       4999616 non-null  float64\n",
      " 4   location_id      3518329 non-null  float64\n",
      " 5   cts              5000000 non-null  object \n",
      " 6   post_type        5000000 non-null  int64  \n",
      " 7   description      4452098 non-null  object \n",
      " 8   numbr_likes      5000000 non-null  int64  \n",
      " 9   number_comments  5000000 non-null  int64  \n",
      "dtypes: float64(2), int64(5), object(3)\n",
      "memory usage: 381.5+ MB\n",
      "None\n",
      "<class 'pandas.core.frame.DataFrame'>\n",
      "RangeIndex: 2710197 entries, 40000000 to 42710196\n",
      "Data columns (total 10 columns):\n",
      " #   Column           Non-Null Count    Dtype  \n",
      "---  ------           --------------    -----  \n",
      " 0   sid              2710197 non-null  int64  \n",
      " 1   sid_profile      2710197 non-null  int64  \n",
      " 2   post_id          2710197 non-null  object \n",
      " 3   profile_id       2710194 non-null  float64\n",
      " 4   location_id      2699056 non-null  float64\n",
      " 5   cts              2710197 non-null  object \n",
      " 6   post_type        2710197 non-null  int64  \n",
      " 7   description      2488390 non-null  object \n",
      " 8   numbr_likes      2710197 non-null  int64  \n",
      " 9   number_comments  2710197 non-null  int64  \n",
      "dtypes: float64(2), int64(5), object(3)\n",
      "memory usage: 206.8+ MB\n",
      "None\n"
     ]
    }
   ],
   "source": [
    "for chunk in pd.read_csv('~/instagram_posts.csv', delimiter='\\t', chunksize=5000000):\n",
    "    print(chunk.info(verbose=True,null_counts=True))"
   ]
  },
  {
   "cell_type": "markdown",
   "id": "1c1dfa18-683a-456c-a284-574de6f734c8",
   "metadata": {},
   "source": [
    "** Description\n"
   ]
  },
  {
   "cell_type": "code",
   "execution_count": 39,
   "id": "de480640-1f50-44bc-995a-de08492647aa",
   "metadata": {},
   "outputs": [],
   "source": [
    "location2=pd.read_csv('~/instagram_locations.csv', delimiter='\\t')"
   ]
  },
  {
   "cell_type": "code",
   "execution_count": null,
   "id": "ce511ae7-fbeb-4b3f-854d-7c2b11185580",
   "metadata": {},
   "outputs": [],
   "source": [
    "location2.info"
   ]
  },
  {
   "cell_type": "markdown",
   "id": "d36662ce-c835-47de-a0b7-0ee22634bf57",
   "metadata": {},
   "source": [
    "# Q2"
   ]
  },
  {
   "cell_type": "code",
   "execution_count": 2,
   "id": "470c6b0f-74a6-4e73-a2e0-83c6e7903b86",
   "metadata": {},
   "outputs": [],
   "source": [
    "import pandas as pd\n",
    "import numpy as np\n",
    "import matplotlib.pyplot as plt\n",
    "import collections\n"
   ]
  },
  {
   "cell_type": "markdown",
   "id": "8d1d91d2-33fb-4c54-ba80-2308f20a6ba8",
   "metadata": {},
   "source": [
    "Plot the number of posts for each profile in descending order.\n"
   ]
  },
  {
   "cell_type": "code",
   "execution_count": 3,
   "id": "e9da27c5-b0cf-49ff-af5d-7d1a1aaded7a",
   "metadata": {},
   "outputs": [
    {
     "data": {
      "text/html": [
       "<div>\n",
       "<style scoped>\n",
       "    .dataframe tbody tr th:only-of-type {\n",
       "        vertical-align: middle;\n",
       "    }\n",
       "\n",
       "    .dataframe tbody tr th {\n",
       "        vertical-align: top;\n",
       "    }\n",
       "\n",
       "    .dataframe thead th {\n",
       "        text-align: right;\n",
       "    }\n",
       "</style>\n",
       "<table border=\"1\" class=\"dataframe\">\n",
       "  <thead>\n",
       "    <tr style=\"text-align: right;\">\n",
       "      <th></th>\n",
       "      <th>sid</th>\n",
       "      <th>profile_id</th>\n",
       "      <th>profile_name</th>\n",
       "      <th>firstname_lastname</th>\n",
       "      <th>description</th>\n",
       "      <th>following</th>\n",
       "      <th>followers</th>\n",
       "      <th>n_posts</th>\n",
       "      <th>url</th>\n",
       "      <th>cts</th>\n",
       "      <th>is_business_account</th>\n",
       "    </tr>\n",
       "  </thead>\n",
       "  <tbody>\n",
       "    <tr>\n",
       "      <th>3990313</th>\n",
       "      <td>3661552</td>\n",
       "      <td>1.996648e+08</td>\n",
       "      <td>jasem33312</td>\n",
       "      <td>jasem33312</td>\n",
       "      <td>NaN</td>\n",
       "      <td>2.0</td>\n",
       "      <td>82049.0</td>\n",
       "      <td>183730.0</td>\n",
       "      <td>NaN</td>\n",
       "      <td>2019-06-30 19:14:19.780 -0400</td>\n",
       "      <td>False</td>\n",
       "    </tr>\n",
       "    <tr>\n",
       "      <th>2571453</th>\n",
       "      <td>3288809</td>\n",
       "      <td>8.563367e+09</td>\n",
       "      <td>koenigpic</td>\n",
       "      <td>Helperwait Studio</td>\n",
       "      <td>Веб сайты от идеи до запуска</td>\n",
       "      <td>4538.0</td>\n",
       "      <td>675.0</td>\n",
       "      <td>142428.0</td>\n",
       "      <td>vk.com/ru.helperwait</td>\n",
       "      <td>2019-05-07 00:14:06.799 -0400</td>\n",
       "      <td>True</td>\n",
       "    </tr>\n",
       "    <tr>\n",
       "      <th>4338921</th>\n",
       "      <td>3970193</td>\n",
       "      <td>1.273455e+09</td>\n",
       "      <td>rudyanto62</td>\n",
       "      <td>Rudyanto 王耀祝</td>\n",
       "      <td>NaN</td>\n",
       "      <td>164.0</td>\n",
       "      <td>1693.0</td>\n",
       "      <td>126340.0</td>\n",
       "      <td>NaN</td>\n",
       "      <td>2019-07-15 10:00:51.171 -0400</td>\n",
       "      <td>False</td>\n",
       "    </tr>\n",
       "    <tr>\n",
       "      <th>3942129</th>\n",
       "      <td>3621669</td>\n",
       "      <td>9.813508e+06</td>\n",
       "      <td>hometown_ni</td>\n",
       "      <td>AngelsCowboysLakers</td>\n",
       "      <td>All about live &amp; let live. Peace &amp; Harmony. La...</td>\n",
       "      <td>7488.0</td>\n",
       "      <td>1755.0</td>\n",
       "      <td>125220.0</td>\n",
       "      <td>NaN</td>\n",
       "      <td>2019-06-27 02:49:38.140 -0400</td>\n",
       "      <td>False</td>\n",
       "    </tr>\n",
       "    <tr>\n",
       "      <th>4219642</th>\n",
       "      <td>3851869</td>\n",
       "      <td>1.607309e+09</td>\n",
       "      <td>dwfitfiber_thailand</td>\n",
       "      <td>เห็นผลตั้งแต่เซ็ตแรกท้าลอง</td>\n",
       "      <td>✿รับตัวแทนรายได้ดีมาก\\n🏧 KTB l SCB l KBANK | B...</td>\n",
       "      <td>7490.0</td>\n",
       "      <td>44951.0</td>\n",
       "      <td>117262.0</td>\n",
       "      <td>bit.ly/2GdIYJl</td>\n",
       "      <td>2019-07-13 02:10:07.317 -0400</td>\n",
       "      <td>True</td>\n",
       "    </tr>\n",
       "  </tbody>\n",
       "</table>\n",
       "</div>"
      ],
      "text/plain": [
       "             sid    profile_id         profile_name  \\\n",
       "3990313  3661552  1.996648e+08           jasem33312   \n",
       "2571453  3288809  8.563367e+09            koenigpic   \n",
       "4338921  3970193  1.273455e+09           rudyanto62   \n",
       "3942129  3621669  9.813508e+06          hometown_ni   \n",
       "4219642  3851869  1.607309e+09  dwfitfiber_thailand   \n",
       "\n",
       "                 firstname_lastname  \\\n",
       "3990313                  jasem33312   \n",
       "2571453           Helperwait Studio   \n",
       "4338921                Rudyanto 王耀祝   \n",
       "3942129         AngelsCowboysLakers   \n",
       "4219642  เห็นผลตั้งแต่เซ็ตแรกท้าลอง   \n",
       "\n",
       "                                               description  following  \\\n",
       "3990313                                                NaN        2.0   \n",
       "2571453                       Веб сайты от идеи до запуска     4538.0   \n",
       "4338921                                                NaN      164.0   \n",
       "3942129  All about live & let live. Peace & Harmony. La...     7488.0   \n",
       "4219642  ✿รับตัวแทนรายได้ดีมาก\\n🏧 KTB l SCB l KBANK | B...     7490.0   \n",
       "\n",
       "         followers   n_posts                   url  \\\n",
       "3990313    82049.0  183730.0                   NaN   \n",
       "2571453      675.0  142428.0  vk.com/ru.helperwait   \n",
       "4338921     1693.0  126340.0                   NaN   \n",
       "3942129     1755.0  125220.0                   NaN   \n",
       "4219642    44951.0  117262.0        bit.ly/2GdIYJl   \n",
       "\n",
       "                                   cts is_business_account  \n",
       "3990313  2019-06-30 19:14:19.780 -0400               False  \n",
       "2571453  2019-05-07 00:14:06.799 -0400                True  \n",
       "4338921  2019-07-15 10:00:51.171 -0400               False  \n",
       "3942129  2019-06-27 02:49:38.140 -0400               False  \n",
       "4219642  2019-07-13 02:10:07.317 -0400                True  "
      ]
     },
     "execution_count": 3,
     "metadata": {},
     "output_type": "execute_result"
    }
   ],
   "source": [
    "data_prof= pd.read_csv('~/instagram_profiles.csv',delimiter='\\t')\n",
    "data_prof.sort_values(by='n_posts',ascending=False).head() #sort the values by the field n_post"
   ]
  },
  {
   "cell_type": "markdown",
   "id": "07561055-7f41-4d3d-8f6c-2e087b769501",
   "metadata": {},
   "source": [
    "What posts have the highest number of \"likes\"?"
   ]
  },
  {
   "cell_type": "code",
   "execution_count": 29,
   "id": "97b0d5fe-8e57-48d5-9efa-5dcac79e521d",
   "metadata": {},
   "outputs": [],
   "source": [
    "data_post=pd.read_csv('~/instagram_posts.csv',delimiter='\\t',usecols=['numbr_likes','post_id'])\n",
    "\n",
    "    "
   ]
  },
  {
   "cell_type": "code",
   "execution_count": 30,
   "id": "3cc05c94-1916-4fde-8c22-2e50c4e90f3a",
   "metadata": {},
   "outputs": [
    {
     "data": {
      "text/html": [
       "<div>\n",
       "<style scoped>\n",
       "    .dataframe tbody tr th:only-of-type {\n",
       "        vertical-align: middle;\n",
       "    }\n",
       "\n",
       "    .dataframe tbody tr th {\n",
       "        vertical-align: top;\n",
       "    }\n",
       "\n",
       "    .dataframe thead th {\n",
       "        text-align: right;\n",
       "    }\n",
       "</style>\n",
       "<table border=\"1\" class=\"dataframe\">\n",
       "  <thead>\n",
       "    <tr style=\"text-align: right;\">\n",
       "      <th></th>\n",
       "      <th>post_id</th>\n",
       "      <th>numbr_likes</th>\n",
       "    </tr>\n",
       "  </thead>\n",
       "  <tbody>\n",
       "    <tr>\n",
       "      <th>19624085</th>\n",
       "      <td>Bt3yaXmAM0d</td>\n",
       "      <td>8822952.0</td>\n",
       "    </tr>\n",
       "    <tr>\n",
       "      <th>19623988</th>\n",
       "      <td>BuwffB7g8cK</td>\n",
       "      <td>5447066.0</td>\n",
       "    </tr>\n",
       "    <tr>\n",
       "      <th>19624082</th>\n",
       "      <td>Buc1gyZAaMQ</td>\n",
       "      <td>5116398.0</td>\n",
       "    </tr>\n",
       "    <tr>\n",
       "      <th>19623986</th>\n",
       "      <td>BvcukE8AMuG</td>\n",
       "      <td>4271466.0</td>\n",
       "    </tr>\n",
       "    <tr>\n",
       "      <th>39701024</th>\n",
       "      <td>BqSLFVBFLfq</td>\n",
       "      <td>4264745.0</td>\n",
       "    </tr>\n",
       "  </tbody>\n",
       "</table>\n",
       "</div>"
      ],
      "text/plain": [
       "              post_id  numbr_likes\n",
       "19624085  Bt3yaXmAM0d    8822952.0\n",
       "19623988  BuwffB7g8cK    5447066.0\n",
       "19624082  Buc1gyZAaMQ    5116398.0\n",
       "19623986  BvcukE8AMuG    4271466.0\n",
       "39701024  BqSLFVBFLfq    4264745.0"
      ]
     },
     "execution_count": 30,
     "metadata": {},
     "output_type": "execute_result"
    }
   ],
   "source": [
    "data_post.sort_values(by='numbr_likes', ascending=False).head()\n"
   ]
  },
  {
   "cell_type": "markdown",
   "id": "ebe3a65b-e871-48a1-a051-220246162b63",
   "metadata": {
    "tags": []
   },
   "source": [
    "What posts have the most and the least number of comments?"
   ]
  },
  {
   "cell_type": "code",
   "execution_count": 2,
   "id": "0d267122-6412-44c8-9441-774972f38004",
   "metadata": {},
   "outputs": [],
   "source": [
    "data_po=pd.read_csv('~/instagram_posts.csv',delimiter='\\t',usecols=['number_comments','post_id'])"
   ]
  },
  {
   "cell_type": "code",
   "execution_count": 4,
   "id": "87018c27-5075-45ae-a9da-c9ec2d5ce5a8",
   "metadata": {},
   "outputs": [
    {
     "data": {
      "text/html": [
       "<div>\n",
       "<style scoped>\n",
       "    .dataframe tbody tr th:only-of-type {\n",
       "        vertical-align: middle;\n",
       "    }\n",
       "\n",
       "    .dataframe tbody tr th {\n",
       "        vertical-align: top;\n",
       "    }\n",
       "\n",
       "    .dataframe thead th {\n",
       "        text-align: right;\n",
       "    }\n",
       "</style>\n",
       "<table border=\"1\" class=\"dataframe\">\n",
       "  <thead>\n",
       "    <tr style=\"text-align: right;\">\n",
       "      <th></th>\n",
       "      <th>post_id</th>\n",
       "      <th>number_comments</th>\n",
       "    </tr>\n",
       "  </thead>\n",
       "  <tbody>\n",
       "    <tr>\n",
       "      <th>41873060</th>\n",
       "      <td>Bx2sPAjHviO</td>\n",
       "      <td>488953.0</td>\n",
       "    </tr>\n",
       "    <tr>\n",
       "      <th>12164781</th>\n",
       "      <td>BuGjhWAhAW5</td>\n",
       "      <td>313997.0</td>\n",
       "    </tr>\n",
       "    <tr>\n",
       "      <th>33261751</th>\n",
       "      <td>BJ-rkpTgn1N</td>\n",
       "      <td>257488.0</td>\n",
       "    </tr>\n",
       "    <tr>\n",
       "      <th>11149127</th>\n",
       "      <td>BMtisIxjhtT</td>\n",
       "      <td>214365.0</td>\n",
       "    </tr>\n",
       "    <tr>\n",
       "      <th>9383817</th>\n",
       "      <td>BzOOWj3DfZK</td>\n",
       "      <td>189888.0</td>\n",
       "    </tr>\n",
       "  </tbody>\n",
       "</table>\n",
       "</div>"
      ],
      "text/plain": [
       "              post_id  number_comments\n",
       "41873060  Bx2sPAjHviO         488953.0\n",
       "12164781  BuGjhWAhAW5         313997.0\n",
       "33261751  BJ-rkpTgn1N         257488.0\n",
       "11149127  BMtisIxjhtT         214365.0\n",
       "9383817   BzOOWj3DfZK         189888.0"
      ]
     },
     "execution_count": 4,
     "metadata": {},
     "output_type": "execute_result"
    }
   ],
   "source": [
    "data_po.sort_values(by='number_comments', ascending=False).head()"
   ]
  },
  {
   "cell_type": "code",
   "execution_count": 6,
   "id": "a42064b7-fec6-4695-8497-6bed329b8a95",
   "metadata": {},
   "outputs": [
    {
     "data": {
      "text/html": [
       "<div>\n",
       "<style scoped>\n",
       "    .dataframe tbody tr th:only-of-type {\n",
       "        vertical-align: middle;\n",
       "    }\n",
       "\n",
       "    .dataframe tbody tr th {\n",
       "        vertical-align: top;\n",
       "    }\n",
       "\n",
       "    .dataframe thead th {\n",
       "        text-align: right;\n",
       "    }\n",
       "</style>\n",
       "<table border=\"1\" class=\"dataframe\">\n",
       "  <thead>\n",
       "    <tr style=\"text-align: right;\">\n",
       "      <th></th>\n",
       "      <th>post_id</th>\n",
       "      <th>number_comments</th>\n",
       "    </tr>\n",
       "  </thead>\n",
       "  <tbody>\n",
       "    <tr>\n",
       "      <th>0</th>\n",
       "      <td>BXdjjUlgcgq</td>\n",
       "      <td>0.0</td>\n",
       "    </tr>\n",
       "    <tr>\n",
       "      <th>13108581</th>\n",
       "      <td>BzWK_KVgiXi</td>\n",
       "      <td>0.0</td>\n",
       "    </tr>\n",
       "    <tr>\n",
       "      <th>13108584</th>\n",
       "      <td>By8bFqQgkT6</td>\n",
       "      <td>0.0</td>\n",
       "    </tr>\n",
       "    <tr>\n",
       "      <th>13108585</th>\n",
       "      <td>By3Pm79hK1Y</td>\n",
       "      <td>0.0</td>\n",
       "    </tr>\n",
       "    <tr>\n",
       "      <th>13108586</th>\n",
       "      <td>BysF45eANuV</td>\n",
       "      <td>0.0</td>\n",
       "    </tr>\n",
       "  </tbody>\n",
       "</table>\n",
       "</div>"
      ],
      "text/plain": [
       "              post_id  number_comments\n",
       "0         BXdjjUlgcgq              0.0\n",
       "13108581  BzWK_KVgiXi              0.0\n",
       "13108584  By8bFqQgkT6              0.0\n",
       "13108585  By3Pm79hK1Y              0.0\n",
       "13108586  BysF45eANuV              0.0"
      ]
     },
     "execution_count": 6,
     "metadata": {},
     "output_type": "execute_result"
    }
   ],
   "source": [
    "data_po.dropna(subset=['number_comments'],inplace=True)\n",
    "data_po.sort_values(by='number_comments', ascending=True).head()"
   ]
  },
  {
   "cell_type": "markdown",
   "id": "4b7eb6ac-314f-444d-806a-d2252d79f4f0",
   "metadata": {},
   "source": [
    "How many posts include tagged locations, and how many do not? Show it using an appropriate chart and comment your results."
   ]
  },
  {
   "cell_type": "code",
   "execution_count": 26,
   "id": "082bb51b-bf1a-443a-84cb-3d5cb6e8356a",
   "metadata": {},
   "outputs": [
    {
     "data": {
      "image/png": "[encoded data removed]",
      "text/plain": [
       "<Figure size 432x288 with 1 Axes>"
      ]
     },
     "metadata": {},
     "output_type": "display_data"
    }
   ],
   "source": [
    "field=['location_id']\n",
    "loc=0 #number of posts with tagged location\n",
    "not_loc=0 #number of posts without tagged location\n",
    "for chunk in pd.read_csv('~/instagram_posts.csv', delimiter='\\t', chunksize=500000, usecols=field):\n",
    "    not_loc += chunk['location_id'].isna().sum() #to see if a post has no location \n",
    "    loc += chunk['location_id'].notna().sum() #to see in a location is tagged we check if the value is not NaN\n",
    "# Pie chart, where the slices will be ordered and plotted counter-clockwise:\n",
    "labels = 'tagged location', 'not tagged location'\n",
    "sizes = [loc,not_loc]\n",
    "fig1, ax1 = plt.subplots()\n",
    "ax1.pie(sizes,  labels=labels, startangle=90,autopct='%1.2f%%')\n",
    "ax1.axis('equal')  # Equal aspect ratio ensures that pie is drawn as a circle.\n",
    "\n",
    "plt.show()"
   ]
  },
  {
   "cell_type": "markdown",
   "id": "0e0940de-00d1-43cd-a572-b7efcdeb066b",
   "metadata": {},
   "source": [
    "How many posts include only photos? How many also have videos?"
   ]
  },
  {
   "cell_type": "code",
   "execution_count": 39,
   "id": "2685b075-f77a-4e06-9a98-f9a10e345d0e",
   "metadata": {},
   "outputs": [
    {
     "data": {
      "image/png": "[encoded data removed]",
      "text/plain": [
       "<Figure size 432x288 with 1 Axes>"
      ]
     },
     "metadata": {},
     "output_type": "display_data"
    }
   ],
   "source": [
    "pic=[]\n",
    "both=[]\n",
    "field=['post_id','post_type']\n",
    "for chunk in pd.read_csv('~/instagram_posts.csv', delimiter='\\t', chunksize=500000, usecols=field):\n",
    "    chunk.post_type.dropna(inplace=True)\n",
    "    pic.append(chunk.loc[chunk['post_type']==1,'post_id'].tolist())  \n",
    "    both.append(chunk.loc[chunk['post_type']==3,'post_id'].tolist())  \n",
    "        \n",
    "pic2=[y for el in pic for y in el]\n",
    "both2=[y for el in both for y in el]\n",
    "pic3=len(pic2)\n",
    "both3=len(both2)        \n",
    "labels = 'only pic', 'pic & video'\n",
    "sizes = [pic3,both3]\n",
    "fig1, ax1 = plt.subplots()\n",
    "ax1.pie(sizes,  labels=labels, startangle=90,autopct='%1.2f%%')\n",
    "ax1.axis('equal')  # Equal aspect ratio ensures that pie is drawn as a circle.\n",
    "\n",
    "plt.show()"
   ]
  },
  {
   "cell_type": "markdown",
   "id": "e3218324-2354-4a4e-b257-b5b95c2f7b73",
   "metadata": {},
   "source": [
    "What's the percentage of business accounts vs non-business? What can you interpret regarding that percentage?"
   ]
  },
  {
   "cell_type": "code",
   "execution_count": 5,
   "id": "c5b33b04-ff2e-48cf-b096-4c94b1ce3958",
   "metadata": {},
   "outputs": [
    {
     "data": {
      "text/plain": [
       "(-1.1013247030576128,\n",
       " 1.1051349205456826,\n",
       " -1.1050601427543152,\n",
       " 1.100240959178777)"
      ]
     },
     "execution_count": 5,
     "metadata": {},
     "output_type": "execute_result"
    },
    {
     "data": {
      "image/png": "[encoded data removed]",
      "text/plain": [
       "<Figure size 432x288 with 1 Axes>"
      ]
     },
     "metadata": {},
     "output_type": "display_data"
    }
   ],
   "source": [
    "data_prof.dropna(subset=['is_business_account'],inplace=True)\n",
    "yes=len(data_prof[data_prof['is_business_account']==True])\n",
    "no=len(data_prof[data_prof['is_business_account']==False])\n",
    "\n",
    "labels = 'buisness', 'not buisness'\n",
    "sizes = [yes,no]\n",
    "fig1, ax1 = plt.subplots()\n",
    "ax1.pie(sizes,  labels=labels, startangle=90,autopct='%1.2f%%')\n",
    "ax1.axis('equal')  # Equal aspect ratio ensures that pie is drawn as a circle.\n"
   ]
  },
  {
   "cell_type": "markdown",
   "id": "324e59d7-4e5c-433c-b7dd-5a634d241482",
   "metadata": {},
   "source": [
    "# [RQ3]\n",
    "What is the most common time in which users publish their posts?"
   ]
  },
  {
   "cell_type": "code",
   "execution_count": 27,
   "id": "6a846f3a-1db7-49d1-871e-4527e5d4a5b7",
   "metadata": {},
   "outputs": [],
   "source": [
    "posts = pd.read_csv(\"/home/ec2-user/instagram_posts.zip\",delimiter=\"\\t\",usecols=[\"cts\",\"post_id\"],\n",
    "                   parse_dates=['cts'], date_parser=pd.to_datetime)"
   ]
  },
  {
   "cell_type": "code",
   "execution_count": 28,
   "id": "d9c80bfa-c6d3-4f7f-ab1c-7f790715caf1",
   "metadata": {},
   "outputs": [
    {
     "name": "stdout",
     "output_type": "stream",
     "text": [
      "The most common hour is 19\n"
     ]
    }
   ],
   "source": [
    "m = np.argmax(posts.groupby([posts['cts'].dt.hour]).post_id.count())\n",
    "print(f\"The most common hour is {m}\")"
   ]
  },
  {
   "cell_type": "code",
   "execution_count": 41,
   "id": "15dce42b-8236-4a05-b003-7ad90f231dcd",
   "metadata": {},
   "outputs": [
    {
     "data": {
      "text/plain": [
       "<AxesSubplot:title={'center':'Posts per hour'}, xlabel='Hour'>"
      ]
     },
     "execution_count": 41,
     "metadata": {},
     "output_type": "execute_result"
    },
    {
     "data": {
      "image/png": "[encoded data removed]",
      "text/plain": [
       "<Figure size 432x288 with 1 Axes>"
      ]
     },
     "metadata": {
      "needs_background": "light"
     },
     "output_type": "display_data"
    }
   ],
   "source": [
    "plt.ticklabel_format(style='plain')\n",
    "posts.groupby([posts['cts'].dt.hour]).post_id.count().plot(kind=\"bar\",title=\"Posts per hour\",rot=45,xlabel=\"Hour\")"
   ]
  },
  {
   "cell_type": "markdown",
   "id": "9b22b589-fda5-4917-844a-fbf05d5ea7f6",
   "metadata": {},
   "source": [
    "Create a function that receives a time intervals list as a parameter and returns a plot with the number of posts for each given interval"
   ]
  },
  {
   "cell_type": "code",
   "execution_count": 6,
   "id": "b710c9a5-58d4-4f07-8e3c-1cc74877ce4c",
   "metadata": {},
   "outputs": [],
   "source": [
    "posts = pd.read_csv(\"/home/ec2-user/instagram_posts.zip\",delimiter=\"\\t\",chunksize=1000000,\n",
    "                   parse_dates=['cts'], date_parser=pd.to_datetime)"
   ]
  },
  {
   "cell_type": "code",
   "execution_count": 7,
   "id": "02b6a54c-7af4-4cf2-8b72-5a80cb82ebe6",
   "metadata": {},
   "outputs": [],
   "source": [
    "def time_post(df:pd.DataFrame, intervals:list):\n",
    "    \"\"\"\n",
    "    Returns a dataframe with the number of posts per time interval \n",
    "    \"\"\"\n",
    "    result = pd.DataFrame()\n",
    "    df.index = df[\"cts\"]\n",
    "    for i in intervals:\n",
    "        init_time, fin_time = i[0],i[1]\n",
    "        number_of_posts = len(df.between_time(init_time, fin_time))\n",
    "        result.insert(0, init_time.split(\":\")[0], [number_of_posts])\n",
    "    return result"
   ]
  },
  {
   "cell_type": "markdown",
   "id": "4b244a98-fab6-45e7-abb1-ae1a67d1e811",
   "metadata": {},
   "source": [
    "Use the function that you created in the previous literal to plot the number of posts between the following time intervals:"
   ]
  },
  {
   "cell_type": "code",
   "execution_count": 8,
   "id": "39c57c45-049c-4b32-a4b1-5845a822a402",
   "metadata": {},
   "outputs": [],
   "source": [
    "intervals = [[\"06:00:00\",\"10:59:59\"],[\"11:00:00\",\"13:59:59\"],[\"14:00:00\",\"16:59:59\"],[\"17:00:00\",\"19:59:59\"],[\"20:00:00\",\"23:59:59\"],[\"00:00:00\",\"02:59:59\"],[\"03:00:00\",\"05:59:59\"]]"
   ]
  },
  {
   "cell_type": "code",
   "execution_count": 9,
   "id": "0d3b9bbe-73f2-4389-8bb1-4e1ef32101bc",
   "metadata": {},
   "outputs": [],
   "source": [
    "new_df = pd.DataFrame()\n",
    "for chunk in posts:\n",
    "    chunk.index = chunk[\"cts\"]    #  necessary to use \"between_time\" method\n",
    "    new_df = new_df.append(time_post(chunk,intervals))"
   ]
  },
  {
   "cell_type": "code",
   "execution_count": 25,
   "id": "0b14d153-679f-40df-b2a2-7ea71c246485",
   "metadata": {},
   "outputs": [
    {
     "data": {
      "text/plain": [
       "<AxesSubplot:xlabel='Hour', ylabel='# of posts (10^6)'>"
      ]
     },
     "execution_count": 25,
     "metadata": {},
     "output_type": "execute_result"
    },
    {
     "data": {
      "image/png": "[encoded data removed]",
      "text/plain": [
       "<Figure size 432x288 with 1 Axes>"
      ]
     },
     "metadata": {
      "needs_background": "light"
     },
     "output_type": "display_data"
    }
   ],
   "source": [
    "new_df.columns = new_df.columns.astype(int)\n",
    "new_df = new_df.T.sort_index()\n",
    "new_df[new_df.columns].sum().plot(kind=\"bar\",rot=0,xlabel=\"Hour\",ylabel=\"# of posts (10^6)\",legend=False)"
   ]
  },
  {
   "cell_type": "markdown",
   "id": "7286cc71-6514-4d60-997c-9e5c7300269b",
   "metadata": {},
   "source": [
    "## [RQ4] \n",
    "In most cases, we will not have a consistent dataset, and the one we are dealing with is not an exception (ex. in the given datasets, you may not find the information of the profiles for some of the posts). So let’s enhance our analysis."
   ]
  },
  {
   "cell_type": "markdown",
   "id": "4a1f997c-8809-4c21-a04d-eb40a26ef88e",
   "metadata": {
    "tags": []
   },
   "source": [
    "Write a function that, given a profile_id, will be able to return the posts that belong to the given profile_id."
   ]
  },
  {
   "cell_type": "code",
   "execution_count": 13,
   "id": "660cc1e6-63bf-441b-8203-83bc222cdf92",
   "metadata": {},
   "outputs": [],
   "source": [
    "def retireve_posts(df:pd.DataFrame, pid:float):\n",
    "    \"\"\"\n",
    "    returns a dataframe with posts belonging to pid\n",
    "    \"\"\"\n",
    "    return df[df[\"profile_id\"]==pid]"
   ]
  },
  {
   "cell_type": "code",
   "execution_count": 38,
   "id": "bdc17413-9ffb-4c09-9731-e71211c16af4",
   "metadata": {},
   "outputs": [],
   "source": [
    "new_df = pd.DataFrame()\n",
    "for chunk in posts:\n",
    "    new_df = new_df.append(retireve_posts(chunk,pid))"
   ]
  },
  {
   "cell_type": "markdown",
   "id": "4ac7dc0a-b9f3-4260-89e4-af990de53d65",
   "metadata": {},
   "source": [
    "Write another function that, given an input n, will return the posts that belong to the n top posted profiles."
   ]
  },
  {
   "cell_type": "code",
   "execution_count": 9,
   "id": "db0f0bbc-342d-42e1-aa02-39eba531d86d",
   "metadata": {},
   "outputs": [],
   "source": [
    "acc = pd.read_csv(\"/home/ec2-user/instagram_profiles.zip\",delimiter=\"\\t\", )"
   ]
  },
  {
   "cell_type": "code",
   "execution_count": 3,
   "id": "4334e0cc-2f84-45bf-b477-3e2c1d0f0599",
   "metadata": {},
   "outputs": [],
   "source": [
    "# considering only post_id and profile_id columns to reduce memory usage \n",
    "posts = pd.read_csv(\"/home/ec2-user/instagram_posts.zip\",delimiter=\"\\t\",usecols=[\"post_id\",\"profile_id\"])"
   ]
  },
  {
   "cell_type": "code",
   "execution_count": 7,
   "id": "2fcb4135-90ae-4b00-9ffe-fe3ae00dce25",
   "metadata": {},
   "outputs": [],
   "source": [
    "def top_n_posters(acc:pd.DataFrame, posts:pd.DataFrame, n:int):\n",
    "    top = acc.sort_values(by=['n_posts'],ascending=False).head(n)\n",
    "    final_df = pd.DataFrame()\n",
    "    for pid in top[\"profile_id\"]:\n",
    "        final_df = final_df.append(retireve_posts(posts,pid))\n",
    "    return final_df"
   ]
  },
  {
   "cell_type": "code",
   "execution_count": 6,
   "id": "c0f9ca48-6217-4af4-b130-6afb15c4b240",
   "metadata": {},
   "outputs": [
    {
     "data": {
      "text/html": [
       "<div>\n",
       "<style scoped>\n",
       "    .dataframe tbody tr th:only-of-type {\n",
       "        vertical-align: middle;\n",
       "    }\n",
       "\n",
       "    .dataframe tbody tr th {\n",
       "        vertical-align: top;\n",
       "    }\n",
       "\n",
       "    .dataframe thead th {\n",
       "        text-align: right;\n",
       "    }\n",
       "</style>\n",
       "<table border=\"1\" class=\"dataframe\">\n",
       "  <thead>\n",
       "    <tr style=\"text-align: right;\">\n",
       "      <th></th>\n",
       "      <th>post_id</th>\n",
       "      <th>profile_id</th>\n",
       "    </tr>\n",
       "  </thead>\n",
       "  <tbody>\n",
       "    <tr>\n",
       "      <th>9592952</th>\n",
       "      <td>Bq3hP3Khp8J</td>\n",
       "      <td>199664772.0</td>\n",
       "    </tr>\n",
       "    <tr>\n",
       "      <th>9592953</th>\n",
       "      <td>Bq3hN53hUsD</td>\n",
       "      <td>199664772.0</td>\n",
       "    </tr>\n",
       "    <tr>\n",
       "      <th>9592954</th>\n",
       "      <td>BCqCe9LypeF</td>\n",
       "      <td>199664772.0</td>\n",
       "    </tr>\n",
       "    <tr>\n",
       "      <th>9592955</th>\n",
       "      <td>20Wu4zypd2</td>\n",
       "      <td>199664772.0</td>\n",
       "    </tr>\n",
       "    <tr>\n",
       "      <th>9592956</th>\n",
       "      <td>BrKq76AhadU</td>\n",
       "      <td>199664772.0</td>\n",
       "    </tr>\n",
       "    <tr>\n",
       "      <th>...</th>\n",
       "      <td>...</td>\n",
       "      <td>...</td>\n",
       "    </tr>\n",
       "    <tr>\n",
       "      <th>11565172</th>\n",
       "      <td>Bz2KZMWAzaS</td>\n",
       "      <td>285549744.0</td>\n",
       "    </tr>\n",
       "    <tr>\n",
       "      <th>11565173</th>\n",
       "      <td>Bz2KIsGguxY</td>\n",
       "      <td>285549744.0</td>\n",
       "    </tr>\n",
       "    <tr>\n",
       "      <th>11565174</th>\n",
       "      <td>Bz2JMmhA1Bv</td>\n",
       "      <td>285549744.0</td>\n",
       "    </tr>\n",
       "    <tr>\n",
       "      <th>27484079</th>\n",
       "      <td>BxR5tuQAfxT</td>\n",
       "      <td>285549744.0</td>\n",
       "    </tr>\n",
       "    <tr>\n",
       "      <th>39195221</th>\n",
       "      <td>Bxrfj8-pq-V</td>\n",
       "      <td>285549744.0</td>\n",
       "    </tr>\n",
       "  </tbody>\n",
       "</table>\n",
       "<p>356 rows × 2 columns</p>\n",
       "</div>"
      ],
      "text/plain": [
       "              post_id   profile_id\n",
       "9592952   Bq3hP3Khp8J  199664772.0\n",
       "9592953   Bq3hN53hUsD  199664772.0\n",
       "9592954   BCqCe9LypeF  199664772.0\n",
       "9592955    20Wu4zypd2  199664772.0\n",
       "9592956   BrKq76AhadU  199664772.0\n",
       "...               ...          ...\n",
       "11565172  Bz2KZMWAzaS  285549744.0\n",
       "11565173  Bz2KIsGguxY  285549744.0\n",
       "11565174  Bz2JMmhA1Bv  285549744.0\n",
       "27484079  BxR5tuQAfxT  285549744.0\n",
       "39195221  Bxrfj8-pq-V  285549744.0\n",
       "\n",
       "[356 rows x 2 columns]"
      ]
     },
     "execution_count": 6,
     "metadata": {},
     "output_type": "execute_result"
    }
   ],
   "source": [
    "top_posts = top_n_posters(acc,posts,10)\n",
    "top_posts"
   ]
  },
  {
   "cell_type": "markdown",
   "id": "655ff034-96d3-4d89-b845-7ff301aefb5a",
   "metadata": {},
   "source": [
    "What is the average number of \"likes\" and comments of the top 10 profiles with the highest number of posts?"
   ]
  },
  {
   "cell_type": "code",
   "execution_count": 10,
   "id": "53e29d02-2518-4a07-aced-e0a382ffa023",
   "metadata": {},
   "outputs": [],
   "source": [
    "posts = pd.read_csv(\"/home/ec2-user/instagram_posts.zip\",delimiter=\"\\t\",\n",
    "                usecols=[\"post_id\",\"profile_id\",\"numbr_likes\",\"number_comments\"])"
   ]
  },
  {
   "cell_type": "code",
   "execution_count": 11,
   "id": "a2a1404f-780e-4d87-a1f3-297e6d0e5d32",
   "metadata": {},
   "outputs": [],
   "source": [
    "top_posts = top_n_posters(acc,posts,10)"
   ]
  },
  {
   "cell_type": "markdown",
   "id": "946cb532-c89d-486f-8d11-198122b54997",
   "metadata": {},
   "source": [
    "*total avearge number of likes and comments*"
   ]
  },
  {
   "cell_type": "code",
   "execution_count": 11,
   "id": "d0db70e1-57e4-49b6-a457-fbf4ece9c727",
   "metadata": {},
   "outputs": [
    {
     "data": {
      "text/html": [
       "<div>\n",
       "<style scoped>\n",
       "    .dataframe tbody tr th:only-of-type {\n",
       "        vertical-align: middle;\n",
       "    }\n",
       "\n",
       "    .dataframe tbody tr th {\n",
       "        vertical-align: top;\n",
       "    }\n",
       "\n",
       "    .dataframe thead th {\n",
       "        text-align: right;\n",
       "    }\n",
       "</style>\n",
       "<table border=\"1\" class=\"dataframe\">\n",
       "  <thead>\n",
       "    <tr style=\"text-align: right;\">\n",
       "      <th></th>\n",
       "      <th>avg likes</th>\n",
       "      <th>avg comments</th>\n",
       "    </tr>\n",
       "  </thead>\n",
       "  <tbody>\n",
       "    <tr>\n",
       "      <th>0</th>\n",
       "      <td>3.171348</td>\n",
       "      <td>0.033708</td>\n",
       "    </tr>\n",
       "  </tbody>\n",
       "</table>\n",
       "</div>"
      ],
      "text/plain": [
       "   avg likes  avg comments\n",
       "0   3.171348      0.033708"
      ]
     },
     "execution_count": 11,
     "metadata": {},
     "output_type": "execute_result"
    }
   ],
   "source": [
    "cols_rename = {\"numbr_likes\":\"avg likes\",\"number_comments\":\"avg comments\"}\n",
    "top_posts[[\"numbr_likes\",\"number_comments\"]].mean().to_frame().T.rename(cols_rename,axis=1)"
   ]
  },
  {
   "cell_type": "markdown",
   "id": "0549f8cc-9395-483a-a33b-cedd17cf35f2",
   "metadata": {},
   "source": [
    "*average number of likes and comments per account*"
   ]
  },
  {
   "cell_type": "code",
   "execution_count": 12,
   "id": "dff732cc-e97e-439a-8e12-72105ec9ad0e",
   "metadata": {},
   "outputs": [
    {
     "data": {
      "text/html": [
       "<div>\n",
       "<style scoped>\n",
       "    .dataframe tbody tr th:only-of-type {\n",
       "        vertical-align: middle;\n",
       "    }\n",
       "\n",
       "    .dataframe tbody tr th {\n",
       "        vertical-align: top;\n",
       "    }\n",
       "\n",
       "    .dataframe thead th {\n",
       "        text-align: right;\n",
       "    }\n",
       "</style>\n",
       "<table border=\"1\" class=\"dataframe\">\n",
       "  <thead>\n",
       "    <tr style=\"text-align: right;\">\n",
       "      <th></th>\n",
       "      <th>avg likes</th>\n",
       "      <th>avg comments</th>\n",
       "    </tr>\n",
       "    <tr>\n",
       "      <th>profile_id</th>\n",
       "      <th></th>\n",
       "      <th></th>\n",
       "    </tr>\n",
       "  </thead>\n",
       "  <tbody>\n",
       "    <tr>\n",
       "      <th>9.813508e+06</th>\n",
       "      <td>0.296296</td>\n",
       "      <td>0.000000</td>\n",
       "    </tr>\n",
       "    <tr>\n",
       "      <th>1.996648e+08</th>\n",
       "      <td>7.666667</td>\n",
       "      <td>0.000000</td>\n",
       "    </tr>\n",
       "    <tr>\n",
       "      <th>2.181730e+08</th>\n",
       "      <td>0.400000</td>\n",
       "      <td>0.040000</td>\n",
       "    </tr>\n",
       "    <tr>\n",
       "      <th>2.855497e+08</th>\n",
       "      <td>3.921875</td>\n",
       "      <td>0.000000</td>\n",
       "    </tr>\n",
       "    <tr>\n",
       "      <th>1.087614e+09</th>\n",
       "      <td>2.026316</td>\n",
       "      <td>0.184211</td>\n",
       "    </tr>\n",
       "    <tr>\n",
       "      <th>1.273455e+09</th>\n",
       "      <td>2.960000</td>\n",
       "      <td>0.040000</td>\n",
       "    </tr>\n",
       "    <tr>\n",
       "      <th>1.603890e+09</th>\n",
       "      <td>6.477612</td>\n",
       "      <td>0.044776</td>\n",
       "    </tr>\n",
       "    <tr>\n",
       "      <th>1.607309e+09</th>\n",
       "      <td>1.540541</td>\n",
       "      <td>0.000000</td>\n",
       "    </tr>\n",
       "    <tr>\n",
       "      <th>8.563367e+09</th>\n",
       "      <td>0.000000</td>\n",
       "      <td>0.000000</td>\n",
       "    </tr>\n",
       "  </tbody>\n",
       "</table>\n",
       "</div>"
      ],
      "text/plain": [
       "              avg likes  avg comments\n",
       "profile_id                           \n",
       "9.813508e+06   0.296296      0.000000\n",
       "1.996648e+08   7.666667      0.000000\n",
       "2.181730e+08   0.400000      0.040000\n",
       "2.855497e+08   3.921875      0.000000\n",
       "1.087614e+09   2.026316      0.184211\n",
       "1.273455e+09   2.960000      0.040000\n",
       "1.603890e+09   6.477612      0.044776\n",
       "1.607309e+09   1.540541      0.000000\n",
       "8.563367e+09   0.000000      0.000000"
      ]
     },
     "execution_count": 12,
     "metadata": {},
     "output_type": "execute_result"
    }
   ],
   "source": [
    "top_posts[[\"profile_id\",\"numbr_likes\",\"number_comments\"]].groupby(\"profile_id\").mean().rename(cols_rename,axis=1)"
   ]
  },
  {
   "cell_type": "markdown",
   "id": "bd0327e5-0726-43e2-aebc-7de0821cf7d1",
   "metadata": {},
   "source": [
    "Plot the number of posts that these top 10 profiles have sent on Instagram in the given interval in question RQ3. Interpret the resulting chart."
   ]
  },
  {
   "cell_type": "code",
   "execution_count": 5,
   "id": "b2a6dadb-2bd9-472b-a3f9-e24adb8bf875",
   "metadata": {},
   "outputs": [],
   "source": [
    "posts = pd.read_csv(\"/home/ec2-user/instagram_posts.zip\",delimiter=\"\\t\",\n",
    "                usecols=[\"post_id\",\"profile_id\",\"cts\"],\n",
    "                parse_dates=['cts'], date_parser=pd.to_datetime)"
   ]
  },
  {
   "cell_type": "code",
   "execution_count": 14,
   "id": "b7698515-18d3-4098-8951-c8a804df97c7",
   "metadata": {},
   "outputs": [],
   "source": [
    "top_posters = top_n_posters(acc,posts,10)\n",
    "top_posts = posts[posts[\"profile_id\"].isin(top_posters[\"profile_id\"])]"
   ]
  },
  {
   "cell_type": "code",
   "execution_count": 15,
   "id": "8efd1228-1c9d-46f2-8d65-44d8cf93e151",
   "metadata": {},
   "outputs": [
    {
     "data": {
      "text/plain": [
       "<AxesSubplot:xlabel='Hour', ylabel='n° of posts'>"
      ]
     },
     "execution_count": 15,
     "metadata": {},
     "output_type": "execute_result"
    },
    {
     "data": {
      "image/png": "[encoded data removed]",
      "text/plain": [
       "<Figure size 432x288 with 1 Axes>"
      ]
     },
     "metadata": {
      "needs_background": "light"
     },
     "output_type": "display_data"
    }
   ],
   "source": [
    "result = time_post(top_posters, intervals)\n",
    "result.columns = result.columns.astype(int)\n",
    "res_plot = result.T.sort_index()\n",
    "res_plot.plot(kind=\"bar\",sort_columns=True,rot=0,xlabel=\"Hour\",ylabel=\"n° of posts\",legend=False)"
   ]
  },
  {
   "cell_type": "markdown",
   "id": "e1a78cc4-4626-4396-8601-ac7215b0d4d6",
   "metadata": {
    "tags": []
   },
   "source": [
    "## [RQ5] "
   ]
  },
  {
   "cell_type": "markdown",
   "id": "85876d79-6ec9-44ac-85d6-00c3ecc7997f",
   "metadata": {},
   "source": [
    "The most influential users are the ones with the highest number of “followers\", you can now look more into their activity."
   ]
  },
  {
   "cell_type": "markdown",
   "id": "0b5e43ac-fc62-429f-863f-03ba6e01dbd4",
   "metadata": {},
   "source": [
    "Plot the top 10 most popular users in terms of followers and their number of posts."
   ]
  },
  {
   "cell_type": "code",
   "execution_count": 8,
   "id": "a723274d-7409-4c15-9497-d4742243bd80",
   "metadata": {},
   "outputs": [
    {
     "data": {
      "text/plain": [
       "<AxesSubplot:xlabel='profile_name'>"
      ]
     },
     "execution_count": 8,
     "metadata": {},
     "output_type": "execute_result"
    },
    {
     "data": {
      "image/png": "[encoded data removed]",
      "text/plain": [
       "<Figure size 432x288 with 1 Axes>"
      ]
     },
     "metadata": {
      "needs_background": "light"
     },
     "output_type": "display_data"
    },
    {
     "data": {
      "image/png": "[encoded data removed]",
      "text/plain": [
       "<Figure size 432x288 with 1 Axes>"
      ]
     },
     "metadata": {
      "needs_background": "light"
     },
     "output_type": "display_data"
    }
   ],
   "source": [
    "top_follower= data_prof.sort_values(by='followers', ascending=False).head(10)\n",
    "top_post= data_prof.sort_values(by='n_posts', ascending=False).head(10)\n",
    "top_follower.plot.bar(x = 'profile_name', y='followers')\n",
    "top_post.plot.bar(x = 'profile_name', y='n_posts')"
   ]
  },
  {
   "cell_type": "markdown",
   "id": "a13331d4-8eb5-43bf-82b9-e7cd15afd000",
   "metadata": {},
   "source": [
    "Who is the most influential user?"
   ]
  },
  {
   "cell_type": "code",
   "execution_count": 15,
   "id": "9fd22f8f-81e8-42e7-bda3-b52e269e5e36",
   "metadata": {},
   "outputs": [
    {
     "data": {
      "text/plain": [
       "'instagram'"
      ]
     },
     "execution_count": 15,
     "metadata": {},
     "output_type": "execute_result"
    }
   ],
   "source": [
    "most_influencer=top_follower['profile_name'].iloc[0]\n",
    "most_influencer"
   ]
  },
  {
   "cell_type": "markdown",
   "id": "8ea5b7fc-85fe-4535-8e66-c4b020cd1d38",
   "metadata": {},
   "source": [
    "Have they posted anything with tagged locations? Extract the most frequent areas on their posts and plot the number of times each city has been visited."
   ]
  },
  {
   "cell_type": "code",
   "execution_count": 9,
   "id": "bc0317d0-5c04-4670-a7c4-8b4c7faf5ff4",
   "metadata": {},
   "outputs": [],
   "source": [
    "loc=[]\n",
    "\n",
    "field=['profile_id','location_id'] # field that will be load in the chunk dataframe\n",
    "for chunk in pd.read_csv('~/instagram_posts.csv', delimiter='\\t', chunksize=500000, usecols=field):\n",
    "    chunk.dropna(inplace=True) #not considering NaN values\n",
    "    loc.append(chunk.loc[chunk['profile_id'].isin(top_follower['profile_id']),'location_id'].tolist()) # loc will be a nested list\n",
    "location_list=[ id_loc for el in loc for id_loc in el]\n"
   ]
  },
  {
   "cell_type": "code",
   "execution_count": 26,
   "id": "7ef47a00-7dc0-418d-95e9-34d05fceb952",
   "metadata": {},
   "outputs": [
    {
     "name": "stdout",
     "output_type": "stream",
     "text": [
      "The most frequent areas are: [('New York, New York', 9), ('Singapore', 4), ('Los Angeles, California', 4)]\n"
     ]
    }
   ],
   "source": [
    "\n",
    "field=['id','city']\n",
    "location_= pd.read_csv('~/instagram_locations.csv', delimiter='\\t', usecols=field)\n",
    "location_.dropna(subset=['city'],inplace=True)\n",
    "city=location_.loc[location_['id'].isin(location_list), 'city'].tolist()\n",
    "cont=collections.Counter(city)\n",
    "#the most frequent areas are\n",
    "print('The most frequent areas are:',cont.most_common(3))"
   ]
  },
  {
   "cell_type": "code",
   "execution_count": 36,
   "id": "7d7fb195-7e71-449c-9f3a-f9c5a370c7b3",
   "metadata": {},
   "outputs": [
    {
     "data": {
      "text/plain": [
       "<AxesSubplot:xlabel='city', ylabel='visited'>"
      ]
     },
     "execution_count": 36,
     "metadata": {},
     "output_type": "execute_result"
    },
    {
     "data": {
      "image/png": "[encoded data removed]",
      "text/plain": [
       "<Figure size 1008x216 with 1 Axes>"
      ]
     },
     "metadata": {
      "needs_background": "light"
     },
     "output_type": "display_data"
    }
   ],
   "source": [
    "c=pd.DataFrame([dict(cont)])\n",
    "res_plot = c.T.sort_index()\n",
    "res_plot.plot.bar(figsize=(14,3),xlabel=\"city\",ylabel=\"visited\",legend=False)"
   ]
  },
  {
   "cell_type": "markdown",
   "id": "d0c250ef-47aa-4fd5-9261-aede8d3d354b",
   "metadata": {},
   "source": [
    "How many pictures-only posts have they published? How many reels? (only videos) and how many with both contents? Provide the number as percentages and interpret those figures."
   ]
  },
  {
   "cell_type": "code",
   "execution_count": 34,
   "id": "0788e519-71e2-459f-a2d1-c29a451294c8",
   "metadata": {
    "tags": []
   },
   "outputs": [
    {
     "data": {
      "image/png": "[encoded data removed]",
      "text/plain": [
       "<Figure size 432x288 with 1 Axes>"
      ]
     },
     "metadata": {},
     "output_type": "display_data"
    }
   ],
   "source": [
    "post=[]\n",
    "video=[]\n",
    "\n",
    "profile_id_given=2.502532e+07\n",
    "field=['post_id','profile_id','post_type']\n",
    "for chunk in pd.read_csv('~/instagram_posts.csv', delimiter='\\t', chunksize=500000, usecols=field):\n",
    "    chunk.dropna(inplace=True)\n",
    "    if profile_id_given in chunk['profile_id'].values:\n",
    "        post.append(chunk.loc[(chunk['profile_id'] == profile_id_given) & (chunk['post_type']==1),'post_id'].tolist())  \n",
    "        video.append(chunk.loc[(chunk['profile_id'] == profile_id_given) & (chunk['post_type']==2),'post_id'].tolist())  \n",
    "        \n",
    "post2=[y for el in post for y in el]\n",
    "video2=[y for el in video for y in el]\n",
    "post3=len(post2)\n",
    "video3=len(video2)\n",
    "labels = 'only post', 'only video'\n",
    "sizes = [post3,video3]\n",
    "fig1, ax1 = plt.subplots()\n",
    "ax1.pie(sizes,  labels=labels, startangle=90,autopct='%1.2f%%')\n",
    "ax1.axis('equal')  # Equal aspect ratio ensures that pie is drawn as a circle.\n",
    "\n",
    "plt.show()"
   ]
  },
  {
   "cell_type": "markdown",
   "id": "e58c6ef5-1f68-4d7a-88ae-f809be3f5e11",
   "metadata": {},
   "source": [
    "How many pictures-only posts have they published? How many reels? (only videos) and how many with both contents? Provide the number as percentages and interpret those figures."
   ]
  },
  {
   "cell_type": "code",
   "execution_count": 10,
   "id": "319f21ac-fb20-4434-ac1b-7963351bfa07",
   "metadata": {},
   "outputs": [
    {
     "data": {
      "image/png": "[encoded data removed]",
      "text/plain": [
       "<Figure size 432x288 with 1 Axes>"
      ]
     },
     "metadata": {},
     "output_type": "display_data"
    }
   ],
   "source": [
    "post=[]\n",
    "both=[]\n",
    "video=[]\n",
    "field=['post_id','profile_id','post_type']\n",
    "for chunk in pd.read_csv('~/instagram_posts.csv', delimiter='\\t', chunksize=500000, usecols=field):\n",
    "    chunk.dropna(subset=['post_type'],inplace=True)\n",
    "    post.append(chunk.loc[(chunk['profile_id'].isin( top_follower['profile_id']) & (chunk['post_type']==1)),'post_id'].tolist())   \n",
    "    both.append(chunk.loc[(chunk['profile_id'].isin( top_follower['profile_id']) & (chunk['post_type']==3)),'post_id'].tolist())   \n",
    "    video.append(chunk.loc[(chunk['profile_id'].isin( top_follower['profile_id']) & (chunk['post_type']==2)),'post_id'].tolist())   \n",
    "        \n",
    "post2=[y for el in post for y in el]\n",
    "video2=[y for el in video for y in el]\n",
    "both2=[y for el in both for y in el]\n",
    "perc_both=len(both2)\n",
    "perc_post=len(post2) #number of picture-only post\n",
    "perc_video=len(video2)     \n",
    "labels = 'only pic', 'pic & video','only video'\n",
    "sizes = [perc_post,perc_both,perc_video]\n",
    "fig1, ax1 = plt.subplots()\n",
    "ax1.pie(sizes,  labels=labels, startangle=90,autopct='%1.2f%%')\n",
    "ax1.axis('equal')  # Equal aspect ratio ensures that pie is drawn as a circle.\n",
    "\n",
    "plt.show()"
   ]
  },
  {
   "cell_type": "markdown",
   "id": "5357a5a6-94b9-46a0-83f4-993eb7c35a6e",
   "metadata": {},
   "source": [
    "How many \"likes\" and comments did posts with only pictures receive? How about videos and mixed posts? Try to provide the average numbers and confront them with their followers amount, explaining what you can say from that comparison."
   ]
  },
  {
   "cell_type": "code",
   "execution_count": null,
   "id": "d329bcf8-d174-4b80-959e-ba79d62b68cc",
   "metadata": {},
   "outputs": [],
   "source": []
  },
  {
   "cell_type": "code",
   "execution_count": 13,
   "id": "cfdbea75-210a-4327-a03f-bce9ae5789ce",
   "metadata": {},
   "outputs": [
    {
     "data": {
      "image/png": "[encoded data removed]",
      "text/plain": [
       "<Figure size 432x288 with 1 Axes>"
      ]
     },
     "metadata": {},
     "output_type": "display_data"
    }
   ],
   "source": [
    "post=[]\n",
    "both=[]\n",
    "video=[]\n",
    "field=['numbr_likes','profile_id','post_type']\n",
    "for chunk in pd.read_csv('~/instagram_posts.csv', delimiter='\\t', chunksize=500000, usecols=field):\n",
    "    chunk.dropna(subset=['post_type'],inplace=True)\n",
    "    post.append(chunk.loc[(chunk['profile_id'].isin( top_follower['profile_id']) & (chunk['post_type']==1)),'numbr_likes'].tolist())\n",
    "    both.append(chunk.loc[(chunk['profile_id'].isin( top_follower['profile_id']) & (chunk['post_type']==3)),'numbr_likes'].tolist())   \n",
    "    video.append(chunk.loc[(chunk['profile_id'].isin( top_follower['profile_id']) & (chunk['post_type']==2)),'numbr_likes'].tolist())\n",
    "post2=[y for el in post for y in el]\n",
    "video2=[y for el in video for y in el]\n",
    "both2=[y for el in video for y in el]\n",
    "avg_post=sum(post2)/len(post2)\n",
    "avg_video=sum(video2)/len(video2)\n",
    "avg_both=sum(both2)/len(both2)\n",
    "labels = 'only pic avg', 'pic & video avg','only video avg'\n",
    "sizes = [avg_post,avg_both,avg_video]\n",
    "fig1, ax1 = plt.subplots()\n",
    "ax1.pie(sizes,  labels=labels, startangle=90,autopct='%1.2f%%')\n",
    "ax1.axis('equal')  # Equal aspect ratio ensures that pie is drawn as a circle.\n",
    "\n",
    "plt.show()"
   ]
  },
  {
   "cell_type": "code",
   "execution_count": 14,
   "id": "61903976-d023-4744-8ec3-62c115a63ecb",
   "metadata": {},
   "outputs": [
    {
     "data": {
      "image/png": "[encoded data removed]",
      "text/plain": [
       "<Figure size 432x288 with 1 Axes>"
      ]
     },
     "metadata": {},
     "output_type": "display_data"
    }
   ],
   "source": [
    "post=[]\n",
    "both=[]\n",
    "video=[]\n",
    "field=['number_comments','profile_id','post_type']\n",
    "for chunk in pd.read_csv('~/instagram_posts.csv', delimiter='\\t', chunksize=500000, usecols=field):\n",
    "    chunk.dropna(subset=['post_type'],inplace=True)\n",
    "    post.append(chunk.loc[(chunk['profile_id'].isin( top_follower['profile_id']) & (chunk['post_type']==1)),'number_comments'].tolist())\n",
    "    both.append(chunk.loc[(chunk['profile_id'].isin( top_follower['profile_id']) & (chunk['post_type']==3)),'number_comments'].tolist())   \n",
    "    video.append(chunk.loc[(chunk['profile_id'].isin( top_follower['profile_id']) & (chunk['post_type']==2)),'number_comments'].tolist())\n",
    "post2=[y for el in post for y in el]\n",
    "video2=[y for el in video for y in el]\n",
    "both2=[y for el in video for y in el]\n",
    "avg_post=sum(post2)/len(post2)\n",
    "avg_video=sum(video2)/len(video2)\n",
    "avg_both=sum(both2)/len(both2)\n",
    "labels = 'only pic avg', 'pic & video avg','only video avg'\n",
    "sizes = [avg_post,avg_both,avg_video]\n",
    "fig1, ax1 = plt.subplots()\n",
    "ax1.pie(sizes,  labels=labels, startangle=90,autopct='%1.2f%%')\n",
    "ax1.axis('equal')  # Equal aspect ratio ensures that pie is drawn as a circle.\n",
    "\n",
    "plt.show()"
   ]
  },
  {
   "cell_type": "markdown",
   "id": "9ac15391-c930-4110-a6b7-d3f3fd47310d",
   "metadata": {
    "tags": []
   },
   "source": [
    "# [RQ6]\n",
    "What is the average time (days and minutes) a user lets pass before publishing another post? Plot the top 3 users that publish posts more frequently (calculate the average time that passes between posts), including their amount of followers and following."
   ]
  },
  {
   "cell_type": "code",
   "execution_count": 2,
   "id": "6bd41337-6da3-429a-ab80-5c08de591609",
   "metadata": {},
   "outputs": [],
   "source": [
    "posts = pd.read_csv(\"/home/ec2-user/instagram_posts.zip\",delimiter=\"\\t\",lineterminator=\"\\n\",\n",
    "                    usecols = [\"post_id\",\"profile_id\",\"cts\"])"
   ]
  },
  {
   "cell_type": "code",
   "execution_count": 6,
   "id": "e97a6776-fe5e-4281-869b-c0b069575a73",
   "metadata": {},
   "outputs": [],
   "source": [
    "# filtering the profiles with at least more than the 1st quartile\n",
    "# it's more efficient and the mean has no meaning with few posts\n",
    "\n",
    "post_per_profile = posts.groupby(\"profile_id\")[\"post_id\"].count()\n",
    "quant = np.quantile(post_per_profile, .25)\n",
    "gt2_filter = pd.DataFrame(post_per_profile > quant)\n",
    "gt2_filter.rename(columns={\"post_id\":\"has_minimum_posts\"},inplace=True)"
   ]
  },
  {
   "cell_type": "code",
   "execution_count": 7,
   "id": "e3401c2d-331d-4e9c-9394-c42c9890cd50",
   "metadata": {},
   "outputs": [],
   "source": [
    "# significant profile set\n",
    "s_prof = posts.join(gt2_filter, how=\"left\",on=\"profile_id\")\n",
    "s_prof = s_prof[s_prof[\"has_minimum_posts\"]==True]\n",
    "s_prof[\"cts\"] = s_prof[\"cts\"].astype(\"datetime64[ns]\")\n",
    "\n",
    "posts = None # very bad way to free memory\n",
    "\n",
    "# sorting values on cts for later use (shifting)\n",
    "s_prof.sort_values([\"profile_id\",\"cts\"],ascending=False,inplace=True)"
   ]
  },
  {
   "cell_type": "code",
   "execution_count": 8,
   "id": "f7fca630-12b5-4696-8f68-ae7b710c65bf",
   "metadata": {},
   "outputs": [],
   "source": [
    "# Creating the \"time_delta\" column by copying the \"cts\" column \n",
    "# and then shifting 1 row up and subtracting\n",
    "\n",
    "previous_post = s_prof.groupby(\"profile_id\")[\"cts\"].shift(-1)\n",
    "time_delta = s_prof[\"cts\"]-previous_post"
   ]
  },
  {
   "cell_type": "code",
   "execution_count": 9,
   "id": "00c63431-1393-44ec-b5fb-ac57ebad9627",
   "metadata": {},
   "outputs": [],
   "source": [
    "# Adding the time_delta column to the posts dataframe\n",
    "s_prof.insert(3,\"time_delta\",time_delta)"
   ]
  },
  {
   "cell_type": "code",
   "execution_count": 24,
   "id": "71998620-c7cb-4b78-bc37-c4fc83c45437",
   "metadata": {},
   "outputs": [],
   "source": [
    "more_than_zero = s_prof[s_prof[\"time_delta\"] > pd.Timedelta(0)]    # ignoring posts with 0 seconds\n",
    "\n",
    "mean_time_delts = more_than_zero.groupby(\"profile_id\")[\"time_delta\"].mean()"
   ]
  },
  {
   "cell_type": "code",
   "execution_count": 25,
   "id": "8af0222f-c6d0-42ab-968c-2fc3b73a022f",
   "metadata": {},
   "outputs": [
    {
     "name": "stdout",
     "output_type": "stream",
     "text": [
      "the top profiles are:\n"
     ]
    },
    {
     "data": {
      "text/html": [
       "<div>\n",
       "<style scoped>\n",
       "    .dataframe tbody tr th:only-of-type {\n",
       "        vertical-align: middle;\n",
       "    }\n",
       "\n",
       "    .dataframe tbody tr th {\n",
       "        vertical-align: top;\n",
       "    }\n",
       "\n",
       "    .dataframe thead th {\n",
       "        text-align: right;\n",
       "    }\n",
       "</style>\n",
       "<table border=\"1\" class=\"dataframe\">\n",
       "  <thead>\n",
       "    <tr style=\"text-align: right;\">\n",
       "      <th></th>\n",
       "      <th>time_delta</th>\n",
       "    </tr>\n",
       "    <tr>\n",
       "      <th>profile_id</th>\n",
       "      <th></th>\n",
       "    </tr>\n",
       "  </thead>\n",
       "  <tbody>\n",
       "    <tr>\n",
       "      <th>7.121258e+09</th>\n",
       "      <td>0 days 00:00:01</td>\n",
       "    </tr>\n",
       "    <tr>\n",
       "      <th>8.574180e+09</th>\n",
       "      <td>0 days 00:00:01</td>\n",
       "    </tr>\n",
       "    <tr>\n",
       "      <th>4.675640e+07</th>\n",
       "      <td>0 days 00:00:01</td>\n",
       "    </tr>\n",
       "  </tbody>\n",
       "</table>\n",
       "</div>"
      ],
      "text/plain": [
       "                  time_delta\n",
       "profile_id                  \n",
       "7.121258e+09 0 days 00:00:01\n",
       "8.574180e+09 0 days 00:00:01\n",
       "4.675640e+07 0 days 00:00:01"
      ]
     },
     "execution_count": 25,
     "metadata": {},
     "output_type": "execute_result"
    }
   ],
   "source": [
    "top = mean_time_delts.sort_values().head(3)\n",
    "print(\"the top profiles are:\")\n",
    "pd.DataFrame(top)"
   ]
  },
  {
   "cell_type": "markdown",
   "id": "c9c8f7e2-275f-44f4-8076-987fbda80b73",
   "metadata": {},
   "source": [
    "What is the average time a user lets pass before oublishing another post?"
   ]
  },
  {
   "cell_type": "code",
   "execution_count": 26,
   "id": "e45bb710-53a6-4d3f-8b60-529efd0377cc",
   "metadata": {},
   "outputs": [
    {
     "name": "stdout",
     "output_type": "stream",
     "text": [
      "The average time delta between posts is 76 days 17:09:51.191385855\n"
     ]
    }
   ],
   "source": [
    "t = mean_time_delts.sort_values().mean()\n",
    "print(f\"The average time delta between posts is {t}\")"
   ]
  },
  {
   "cell_type": "markdown",
   "id": "b17d35c4-8e0e-4cdf-b0de-63a9622e6af6",
   "metadata": {},
   "source": [
    "Plot the time intervals with the highest average number of “likes” and the ones with the highest average number of comments on posts"
   ]
  }
 ],
 "metadata": {
  "kernelspec": {
   "display_name": "conda_python3",
   "language": "python",
   "name": "conda_python3"
  },
  "language_info": {
   "codemirror_mode": {
    "name": "ipython",
    "version": 3
   },
   "file_extension": ".py",
   "mimetype": "text/x-python",
   "name": "python",
   "nbconvert_exporter": "python",
   "pygments_lexer": "ipython3",
   "version": "3.8.12"
  }
 },
 "nbformat": 4,
 "nbformat_minor": 5
}
