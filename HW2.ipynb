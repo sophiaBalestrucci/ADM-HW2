{
 "cells": [
  {
   "cell_type": "markdown",
   "id": "58bbc6d3-e381-4bca-8274-f37ab3ec2f54",
   "metadata": {},
   "source": [
    "# Q2"
   ]
  },
  {
   "cell_type": "code",
   "execution_count": 2,
   "id": "470c6b0f-74a6-4e73-a2e0-83c6e7903b86",
   "metadata": {},
   "outputs": [
    {
     "name": "stderr",
     "output_type": "stream",
     "text": [
      "Matplotlib is building the font cache; this may take a moment.\n"
     ]
    }
   ],
   "source": [
    "import pandas as pd\n",
    "import numpy as np\n",
    "import matplotlib.pyplot as plt\n",
    "import collections\n"
   ]
  },
  {
   "cell_type": "markdown",
   "id": "8d1d91d2-33fb-4c54-ba80-2308f20a6ba8",
   "metadata": {},
   "source": [
    "### Plot the number of posts for each profile in descending order.\n"
   ]
  },
  {
   "cell_type": "code",
   "execution_count": 11,
   "id": "e9da27c5-b0cf-49ff-af5d-7d1a1aaded7a",
   "metadata": {},
   "outputs": [
    {
     "data": {
      "text/html": [
       "<div>\n",
       "<style scoped>\n",
       "    .dataframe tbody tr th:only-of-type {\n",
       "        vertical-align: middle;\n",
       "    }\n",
       "\n",
       "    .dataframe tbody tr th {\n",
       "        vertical-align: top;\n",
       "    }\n",
       "\n",
       "    .dataframe thead th {\n",
       "        text-align: right;\n",
       "    }\n",
       "</style>\n",
       "<table border=\"1\" class=\"dataframe\">\n",
       "  <thead>\n",
       "    <tr style=\"text-align: right;\">\n",
       "      <th></th>\n",
       "      <th>sid</th>\n",
       "      <th>profile_id</th>\n",
       "      <th>profile_name</th>\n",
       "      <th>firstname_lastname</th>\n",
       "      <th>description</th>\n",
       "      <th>following</th>\n",
       "      <th>followers</th>\n",
       "      <th>n_posts</th>\n",
       "      <th>url</th>\n",
       "      <th>cts</th>\n",
       "      <th>is_business_account</th>\n",
       "    </tr>\n",
       "  </thead>\n",
       "  <tbody>\n",
       "    <tr>\n",
       "      <th>3990313</th>\n",
       "      <td>3661552</td>\n",
       "      <td>1.996648e+08</td>\n",
       "      <td>jasem33312</td>\n",
       "      <td>jasem33312</td>\n",
       "      <td>NaN</td>\n",
       "      <td>2.0</td>\n",
       "      <td>82049.0</td>\n",
       "      <td>183730.0</td>\n",
       "      <td>NaN</td>\n",
       "      <td>2019-06-30 19:14:19.780 -0400</td>\n",
       "      <td>False</td>\n",
       "    </tr>\n",
       "    <tr>\n",
       "      <th>2571453</th>\n",
       "      <td>3288809</td>\n",
       "      <td>8.563367e+09</td>\n",
       "      <td>koenigpic</td>\n",
       "      <td>Helperwait Studio</td>\n",
       "      <td>Веб сайты от идеи до запуска</td>\n",
       "      <td>4538.0</td>\n",
       "      <td>675.0</td>\n",
       "      <td>142428.0</td>\n",
       "      <td>vk.com/ru.helperwait</td>\n",
       "      <td>2019-05-07 00:14:06.799 -0400</td>\n",
       "      <td>True</td>\n",
       "    </tr>\n",
       "    <tr>\n",
       "      <th>4338921</th>\n",
       "      <td>3970193</td>\n",
       "      <td>1.273455e+09</td>\n",
       "      <td>rudyanto62</td>\n",
       "      <td>Rudyanto 王耀祝</td>\n",
       "      <td>NaN</td>\n",
       "      <td>164.0</td>\n",
       "      <td>1693.0</td>\n",
       "      <td>126340.0</td>\n",
       "      <td>NaN</td>\n",
       "      <td>2019-07-15 10:00:51.171 -0400</td>\n",
       "      <td>False</td>\n",
       "    </tr>\n",
       "    <tr>\n",
       "      <th>3942129</th>\n",
       "      <td>3621669</td>\n",
       "      <td>9.813508e+06</td>\n",
       "      <td>hometown_ni</td>\n",
       "      <td>AngelsCowboysLakers</td>\n",
       "      <td>All about live &amp; let live. Peace &amp; Harmony. La...</td>\n",
       "      <td>7488.0</td>\n",
       "      <td>1755.0</td>\n",
       "      <td>125220.0</td>\n",
       "      <td>NaN</td>\n",
       "      <td>2019-06-27 02:49:38.140 -0400</td>\n",
       "      <td>False</td>\n",
       "    </tr>\n",
       "    <tr>\n",
       "      <th>4219642</th>\n",
       "      <td>3851869</td>\n",
       "      <td>1.607309e+09</td>\n",
       "      <td>dwfitfiber_thailand</td>\n",
       "      <td>เห็นผลตั้งแต่เซ็ตแรกท้าลอง</td>\n",
       "      <td>✿รับตัวแทนรายได้ดีมาก\\n🏧 KTB l SCB l KBANK | B...</td>\n",
       "      <td>7490.0</td>\n",
       "      <td>44951.0</td>\n",
       "      <td>117262.0</td>\n",
       "      <td>bit.ly/2GdIYJl</td>\n",
       "      <td>2019-07-13 02:10:07.317 -0400</td>\n",
       "      <td>True</td>\n",
       "    </tr>\n",
       "  </tbody>\n",
       "</table>\n",
       "</div>"
      ],
      "text/plain": [
       "             sid    profile_id         profile_name  \\\n",
       "3990313  3661552  1.996648e+08           jasem33312   \n",
       "2571453  3288809  8.563367e+09            koenigpic   \n",
       "4338921  3970193  1.273455e+09           rudyanto62   \n",
       "3942129  3621669  9.813508e+06          hometown_ni   \n",
       "4219642  3851869  1.607309e+09  dwfitfiber_thailand   \n",
       "\n",
       "                 firstname_lastname  \\\n",
       "3990313                  jasem33312   \n",
       "2571453           Helperwait Studio   \n",
       "4338921                Rudyanto 王耀祝   \n",
       "3942129         AngelsCowboysLakers   \n",
       "4219642  เห็นผลตั้งแต่เซ็ตแรกท้าลอง   \n",
       "\n",
       "                                               description  following  \\\n",
       "3990313                                                NaN        2.0   \n",
       "2571453                       Веб сайты от идеи до запуска     4538.0   \n",
       "4338921                                                NaN      164.0   \n",
       "3942129  All about live & let live. Peace & Harmony. La...     7488.0   \n",
       "4219642  ✿รับตัวแทนรายได้ดีมาก\\n🏧 KTB l SCB l KBANK | B...     7490.0   \n",
       "\n",
       "         followers   n_posts                   url  \\\n",
       "3990313    82049.0  183730.0                   NaN   \n",
       "2571453      675.0  142428.0  vk.com/ru.helperwait   \n",
       "4338921     1693.0  126340.0                   NaN   \n",
       "3942129     1755.0  125220.0                   NaN   \n",
       "4219642    44951.0  117262.0        bit.ly/2GdIYJl   \n",
       "\n",
       "                                   cts is_business_account  \n",
       "3990313  2019-06-30 19:14:19.780 -0400               False  \n",
       "2571453  2019-05-07 00:14:06.799 -0400                True  \n",
       "4338921  2019-07-15 10:00:51.171 -0400               False  \n",
       "3942129  2019-06-27 02:49:38.140 -0400               False  \n",
       "4219642  2019-07-13 02:10:07.317 -0400                True  "
      ]
     },
     "execution_count": 11,
     "metadata": {},
     "output_type": "execute_result"
    }
   ],
   "source": [
    "data_prof= pd.read_csv('~/instagram_profiles.csv',delimiter='\\t')\n",
    "data_prof.sort_values(by='n_posts',ascending=False).head() #sort the values by the field n_post"
   ]
  },
  {
   "cell_type": "markdown",
   "id": "ebe3a65b-e871-48a1-a051-220246162b63",
   "metadata": {
    "tags": []
   },
   "source": [
    "### What posts have the most and the least number of comments?"
   ]
  },
  {
   "cell_type": "code",
   "execution_count": null,
   "id": "3954a57a-618e-466a-81b4-c5cb056df046",
   "metadata": {},
   "outputs": [],
   "source": []
  },
  {
   "cell_type": "markdown",
   "id": "4b7eb6ac-314f-444d-806a-d2252d79f4f0",
   "metadata": {},
   "source": [
    "### How many posts include tagged locations, and how many do not? Show it using an appropriate chart and comment your results."
   ]
  },
  {
   "cell_type": "code",
   "execution_count": 26,
   "id": "082bb51b-bf1a-443a-84cb-3d5cb6e8356a",
   "metadata": {},
   "outputs": [
    {
     "data": {
      "image/png": "[encoded data removed]",
      "text/plain": [
       "<Figure size 432x288 with 1 Axes>"
      ]
     },
     "metadata": {},
     "output_type": "display_data"
    }
   ],
   "source": [
    "field=['location_id']\n",
    "loc=0 #number of posts with tagged location\n",
    "not_loc=0 #number of posts without tagged location\n",
    "for chunk in pd.read_csv('~/instagram_posts.csv', delimiter='\\t', chunksize=500000, usecols=field):\n",
    "    not_loc += chunk['location_id'].isna().sum() #to see if a post has no location \n",
    "    loc += chunk['location_id'].notna().sum() #to see in a location is tagged we check if the value is not NaN\n",
    "# Pie chart, where the slices will be ordered and plotted counter-clockwise:\n",
    "labels = 'tagged location', 'not tagged location'\n",
    "sizes = [loc,not_loc]\n",
    "fig1, ax1 = plt.subplots()\n",
    "ax1.pie(sizes,  labels=labels, startangle=90,autopct='%1.2f%%')\n",
    "ax1.axis('equal')  # Equal aspect ratio ensures that pie is drawn as a circle.\n",
    "\n",
    "plt.show()"
   ]
  },
  {
   "cell_type": "markdown",
   "id": "0e0940de-00d1-43cd-a572-b7efcdeb066b",
   "metadata": {},
   "source": [
    "### How many posts include only photos? How many also have videos?"
   ]
  },
  {
   "cell_type": "code",
   "execution_count": 39,
   "id": "2685b075-f77a-4e06-9a98-f9a10e345d0e",
   "metadata": {},
   "outputs": [
    {
     "data": {
      "image/png": "[encoded data removed]",
      "text/plain": [
       "<Figure size 432x288 with 1 Axes>"
      ]
     },
     "metadata": {},
     "output_type": "display_data"
    }
   ],
   "source": [
    "pic=[]\n",
    "both=[]\n",
    "field=['post_id','post_type']\n",
    "for chunk in pd.read_csv('~/instagram_posts.csv', delimiter='\\t', chunksize=500000, usecols=field):\n",
    "    chunk.post_type.dropna(inplace=True)\n",
    "    pic.append(chunk.loc[chunk['post_type']==1,'post_id'].tolist())  \n",
    "    both.append(chunk.loc[chunk['post_type']==3,'post_id'].tolist())  \n",
    "        \n",
    "pic2=[y for el in pic for y in el]\n",
    "both2=[y for el in both for y in el]\n",
    "pic3=len(pic2)\n",
    "both3=len(both2)        \n",
    "labels = 'only pic', 'pic & video'\n",
    "sizes = [pic3,both3]\n",
    "fig1, ax1 = plt.subplots()\n",
    "ax1.pie(sizes,  labels=labels, startangle=90,autopct='%1.2f%%')\n",
    "ax1.axis('equal')  # Equal aspect ratio ensures that pie is drawn as a circle.\n",
    "\n",
    "plt.show()"
   ]
  },
  {
   "cell_type": "markdown",
   "id": "7286cc71-6514-4d60-997c-9e5c7300269b",
   "metadata": {},
   "source": [
    "## [RQ4] In most cases, we will not have a consistent dataset, and the one we are dealing with is not an exception (ex. in the given datasets, you may not find the information of the profiles for some of the posts). So let’s enhance our analysis."
   ]
  },
  {
   "cell_type": "markdown",
   "id": "4a1f997c-8809-4c21-a04d-eb40a26ef88e",
   "metadata": {
    "tags": []
   },
   "source": [
    "### Write a function that, given a profile_id, will be able to return the posts that belong to the given profile_id."
   ]
  },
  {
   "cell_type": "code",
   "execution_count": null,
   "id": "639114a4-814e-416e-8aee-2f86759be81b",
   "metadata": {},
   "outputs": [],
   "source": [
    "def get_posts(profile_id_given):\n",
    "    post=[]\n",
    "    field=['profile_id','post_id']\n",
    "    for chunk in pd.read_csv('~/instagram_posts.csv', delimiter='\\t', chunksize=500000, usecols=field):\n",
    "        chunk.dropna(inplace=True)\n",
    "        if profile_id_given in chunk['profile_id'].values:\n",
    "            post.append(chunk.loc[chunk['profile_id'] == profile_id_given,'post_id'].tolist())\n",
    "    post2=[y for el in post for y in el]\n",
    "    return post2\n",
    "\n",
    "#Mi ero resa contro che prendevo solo la prima riga, ho corretto la funzione =)"
   ]
  },
  {
   "cell_type": "markdown",
   "id": "e1a78cc4-4626-4396-8601-ac7215b0d4d6",
   "metadata": {},
   "source": [
    "## [RQ5] The most influential users are the ones with the highest number of “followers\", you can now look more into their activity."
   ]
  },
  {
   "cell_type": "markdown",
   "id": "0b5e43ac-fc62-429f-863f-03ba6e01dbd4",
   "metadata": {},
   "source": [
    "### Plot the top 10 most popular users in terms of followers and their number of posts."
   ]
  },
  {
   "cell_type": "code",
   "execution_count": 14,
   "id": "a723274d-7409-4c15-9497-d4742243bd80",
   "metadata": {},
   "outputs": [
    {
     "data": {
      "text/plain": [
       "<AxesSubplot:xlabel='profile_name'>"
      ]
     },
     "execution_count": 14,
     "metadata": {},
     "output_type": "execute_result"
    },
    {
     "data": {
      "image/png": "[encoded data removed]",
      "text/plain": [
       "<Figure size 432x288 with 1 Axes>"
      ]
     },
     "metadata": {
      "needs_background": "light"
     },
     "output_type": "display_data"
    },
    {
     "data": {
      "image/png": "[encoded data removed]",
      "text/plain": [
       "<Figure size 432x288 with 1 Axes>"
      ]
     },
     "metadata": {
      "needs_background": "light"
     },
     "output_type": "display_data"
    }
   ],
   "source": [
    "top_follower= data_prof.sort_values(by='followers', ascending=False).head(10)\n",
    "top_post= data_prof.sort_values(by='n_posts', ascending=False).head(10)\n",
    "top_follower.plot.bar(x = 'profile_name', y='followers')\n",
    "top_post.plot.bar(x = 'profile_name', y='n_posts')"
   ]
  },
  {
   "cell_type": "markdown",
   "id": "a13331d4-8eb5-43bf-82b9-e7cd15afd000",
   "metadata": {},
   "source": [
    "### Who is the most influential user?"
   ]
  },
  {
   "cell_type": "code",
   "execution_count": 15,
   "id": "9fd22f8f-81e8-42e7-bda3-b52e269e5e36",
   "metadata": {},
   "outputs": [
    {
     "data": {
      "text/plain": [
       "'instagram'"
      ]
     },
     "execution_count": 15,
     "metadata": {},
     "output_type": "execute_result"
    }
   ],
   "source": [
    "most_influencer=top_follower['profile_name'].iloc[0]\n",
    "most_influencer"
   ]
  },
  {
   "cell_type": "markdown",
   "id": "8ea5b7fc-85fe-4535-8e66-c4b020cd1d38",
   "metadata": {},
   "source": [
    "### Have they posted anything with tagged locations? Extract the most frequent areas on their posts and plot the number of times each city has been visited."
   ]
  },
  {
   "cell_type": "code",
   "execution_count": 22,
   "id": "bc0317d0-5c04-4670-a7c4-8b4c7faf5ff4",
   "metadata": {},
   "outputs": [
    {
     "name": "stdout",
     "output_type": "stream",
     "text": [
      "The most frequent areas are: [(5332856.0, 1), (587387369.0, 1), (877066659067597.0, 1)]\n"
     ]
    }
   ],
   "source": [
    "loc=[]\n",
    "profile_id_given=2.502532e+07\n",
    "field=['profile_id','location_id'] # field that will be load in the chunk dataframe\n",
    "for chunk in pd.read_csv('~/instagram_posts.csv', delimiter='\\t', chunksize=500000, usecols=field):\n",
    "    chunk.dropna(inplace=True) #not considering NaN values\n",
    "    if profile_id_given in chunk['profile_id'].values:\n",
    "        loc.append(chunk.loc[chunk['profile_id'] == profile_id_given,'location_id'].tolist()) # loc will be a nested list\n",
    "location_list=[ id_loc for el in loc for id_loc in el]\n",
    "location_list\n",
    "cont=collections.Counter(location_list)\n",
    "#the most frequent areas are\n",
    "print('The most frequent areas are:',cont.most_common(3))"
   ]
  },
  {
   "cell_type": "code",
   "execution_count": 24,
   "id": "23437ea3-b967-43a6-9f4f-282d75b38551",
   "metadata": {},
   "outputs": [
    {
     "data": {
      "text/plain": [
       "Counter({5332856.0: 1,\n",
       "         587387369.0: 1,\n",
       "         877066659067597.0: 1,\n",
       "         350021298.0: 1,\n",
       "         524311966.0: 1,\n",
       "         711348463.0: 1,\n",
       "         2193902.0: 1,\n",
       "         1021722711.0: 1,\n",
       "         927381377419380.0: 1,\n",
       "         873036082898953.0: 1,\n",
       "         592482131.0: 1,\n",
       "         248557125.0: 1,\n",
       "         261122325.0: 1,\n",
       "         288135278570406.0: 1,\n",
       "         343191797.0: 1,\n",
       "         336785864.0: 1,\n",
       "         229123116.0: 1,\n",
       "         261338470931883.0: 1,\n",
       "         132977180705703.0: 1,\n",
       "         1019347558.0: 1,\n",
       "         220618956.0: 1,\n",
       "         1021254794.0: 1,\n",
       "         2361753.0: 1,\n",
       "         238999763.0: 1,\n",
       "         272320632.0: 1,\n",
       "         1014896644.0: 1,\n",
       "         429264.0: 1,\n",
       "         259695682.0: 1,\n",
       "         243602932.0: 1,\n",
       "         7399112.0: 1,\n",
       "         591298383.0: 1,\n",
       "         838523900.0: 1,\n",
       "         1011688667.0: 1,\n",
       "         9519563.0: 1})"
      ]
     },
     "execution_count": 24,
     "metadata": {},
     "output_type": "execute_result"
    }
   ],
   "source": [
    "cont #not sure about this one"
   ]
  },
  {
   "cell_type": "markdown",
   "id": "d0c250ef-47aa-4fd5-9261-aede8d3d354b",
   "metadata": {},
   "source": [
    "### How many pictures-only posts have they published? How many reels? (only videos) and how many with both contents? Provide the number as percentages and interpret those figures."
   ]
  },
  {
   "cell_type": "code",
   "execution_count": 34,
   "id": "0788e519-71e2-459f-a2d1-c29a451294c8",
   "metadata": {
    "tags": []
   },
   "outputs": [
    {
     "data": {
      "image/png": "[encoded data removed]",
      "text/plain": [
       "<Figure size 432x288 with 1 Axes>"
      ]
     },
     "metadata": {},
     "output_type": "display_data"
    }
   ],
   "source": [
    "post=[]\n",
    "video=[]\n",
    "\n",
    "profile_id_given=2.502532e+07\n",
    "field=['post_id','profile_id','post_type']\n",
    "for chunk in pd.read_csv('~/instagram_posts.csv', delimiter='\\t', chunksize=500000, usecols=field):\n",
    "    chunk.dropna(inplace=True)\n",
    "    if profile_id_given in chunk['profile_id'].values:\n",
    "        post.append(chunk.loc[(chunk['profile_id'] == profile_id_given) & (chunk['post_type']==1),'post_id'].tolist())  \n",
    "        video.append(chunk.loc[(chunk['profile_id'] == profile_id_given) & (chunk['post_type']==2),'post_id'].tolist())  \n",
    "        \n",
    "post2=[y for el in post for y in el]\n",
    "video2=[y for el in video for y in el]\n",
    "post3=len(post2)\n",
    "video3=len(video2)\n",
    "labels = 'only post', 'only video'\n",
    "sizes = [post3,video3]\n",
    "fig1, ax1 = plt.subplots()\n",
    "ax1.pie(sizes,  labels=labels, startangle=90,autopct='%1.2f%%')\n",
    "ax1.axis('equal')  # Equal aspect ratio ensures that pie is drawn as a circle.\n",
    "\n",
    "plt.show()"
   ]
  },
  {
   "cell_type": "code",
   "execution_count": 27,
   "id": "56ae7e3b-c8cf-4687-8b3e-bf0be1ed32c3",
   "metadata": {},
   "outputs": [
    {
     "data": {
      "text/plain": [
       "post_id     profile_id  post_type\n",
       "Ss3ULFBQeM  25025320    1           NaN\n",
       "dtype: float64"
      ]
     },
     "execution_count": 27,
     "metadata": {},
     "output_type": "execute_result"
    }
   ],
   "source": [
    "post"
   ]
  },
  {
   "cell_type": "markdown",
   "id": "5357a5a6-94b9-46a0-83f4-993eb7c35a6e",
   "metadata": {},
   "source": [
    "### How many \"likes\" and comments did posts with only pictures receive? How about videos and mixed posts? Try to provide the average numbers and confront them with their followers amount, explaining what you can say from that comparison."
   ]
  },
  {
   "cell_type": "code",
   "execution_count": null,
   "id": "d329bcf8-d174-4b80-959e-ba79d62b68cc",
   "metadata": {},
   "outputs": [],
   "source": []
  }
 ],
 "metadata": {
  "kernelspec": {
   "display_name": "conda_python3",
   "language": "python",
   "name": "conda_python3"
  },
  "language_info": {
   "codemirror_mode": {
    "name": "ipython",
    "version": 3
   },
   "file_extension": ".py",
   "mimetype": "text/x-python",
   "name": "python",
   "nbconvert_exporter": "python",
   "pygments_lexer": "ipython3",
   "version": "3.8.12"
  }
 },
 "nbformat": 4,
 "nbformat_minor": 5
}
