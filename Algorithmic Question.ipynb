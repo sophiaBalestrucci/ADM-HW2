{
 "cells": [
  {
   "cell_type": "markdown",
   "id": "0dacf859",
   "metadata": {},
   "source": [
    "# Algorithmic Question"
   ]
  },
  {
   "cell_type": "markdown",
   "id": "af23bb1d",
   "metadata": {},
   "source": [
    "# [AQ1]"
   ]
  },
  {
   "cell_type": "markdown",
   "id": "e8e82242",
   "metadata": {},
   "source": [
    "What is the output of this algorithm? Describe the mechanism of the algorithm in detail . We do not want to know only its final result. (Describe one example on your own)"
   ]
  },
  {
   "cell_type": "markdown",
   "id": "bbca7f48",
   "metadata": {},
   "source": [
    "The proposed algorithm returns all the possible permutations of the N (distinct) elements of the list.\n",
    "The output is generated simply by running the function f2, in fact this function in its definition calls the function f1 which prints in succession all the elements of the sequence that is provided (which each time will be one of the N! possible permutations).\n",
    "The function f2 instead calls itself in its definition by incrementing start by 1, thus making this a recursive algorithm. In its development, function f2 provides function f1 as a sequence each time with a different permutation of the input list, and it does so by exploiting the fact that in an array of N elements, by setting one, all possible permutations can be obtained starting from the permutations of the remaining N-1 elements and combining the N-th in all possible ways with these permutations. And it is precisely for this reason that the algorithm is recursive, in fact to calculate all the permutations of N-1 elements it calls the function f2 by increasing start by 1, this increase in fact causes the array shorter than 1 to be considered where it is excluded the first element (or the start element of the call preceding at the generic step). In the call of f2 then exchanges are continuously performed between the element in the start position and the element in position i (i.e. in the first three assignments), where i moves from the start value to the end value, and this procedure is repeated until each element of the array does not play the role of a \"fixed\" element and therefore there is a need to swap it at each iteration in the current start position (i.e. what is done in the last three assignments).\n"
   ]
  },
  {
   "cell_type": "markdown",
   "id": "5147cf4f",
   "metadata": {},
   "source": [
    "What is asymptotically (i.e., we are asking for big-O complexity) the algorithm's running time as a function of N?"
   ]
  },
  {
   "cell_type": "markdown",
   "id": "0b24f4e5",
   "metadata": {},
   "source": [
    "$$  T(0,N)=(N-1)T(1,N)=(N-1)T(0,N-1)=(N-1)(N-2)T(0,N-2)=\\dots =\\prod_{i=1}^j (N-i)T(0,N-j)=\\dots =(N-1)!T(0,1) $$\n",
    "$$ T(N)=O(N!) $$"
   ]
  },
  {
   "cell_type": "markdown",
   "id": "21e8d758",
   "metadata": {},
   "source": [
    "Is this algorithm the optimal one to produce this output? If not, can you suggest a better algorithm to perform the same task?"
   ]
  },
  {
   "cell_type": "markdown",
   "id": "7ad69e0c",
   "metadata": {},
   "source": [
    "This is not the optimal alhorithm to produce this output:"
   ]
  },
  {
   "cell_type": "code",
   "execution_count": 2,
   "id": "977360a6",
   "metadata": {},
   "outputs": [],
   "source": [
    "import numpy as np\n",
    "import timeit\n",
    "import matplotlib.pyplot as plt"
   ]
  },
  {
   "cell_type": "code",
   "execution_count": 63,
   "id": "6fe00535",
   "metadata": {},
   "outputs": [],
   "source": [
    "#N : an integer\n",
    "#List : array of characters of length N without repetition\n",
    "import numpy as np\n",
    "def perm(sequence,N):\n",
    "  range = np.arange(0,N+1)\n",
    "  i = 1\n",
    "  print(sequence)\n",
    "  while i<N:\n",
    "    range[i]-=1 \n",
    "    if i%2 == 0:\n",
    "      j = 0\n",
    "    else:\n",
    "      j = range[i]  \n",
    "    temp = sequence[j] \n",
    "    sequence[j] = sequence[i]\n",
    "    sequence[i] = temp \n",
    "    print(sequence)\n",
    "    i=1\n",
    "    while range[i] == 0:\n",
    "      range[i]=i\n",
    "      i+=1\n",
    "\n",
    "#perm(List,N)"
   ]
  },
  {
   "cell_type": "markdown",
   "id": "f8b34331",
   "metadata": {},
   "source": [
    "# [AQ2] "
   ]
  },
  {
   "cell_type": "markdown",
   "id": "dc4e6130",
   "metadata": {},
   "source": [
    "Implement a recursive algorithm to help Alex find the maximum possible value after multiplying the length of the pieces. Explain your algorithm in detail."
   ]
  },
  {
   "cell_type": "code",
   "execution_count": 4,
   "id": "df3207bd",
   "metadata": {},
   "outputs": [],
   "source": [
    "def exponential_max_finder(n):\n",
    "  if n==1:\n",
    "   return 1\n",
    "  m=0\n",
    "  for x in range(1,n):\n",
    "    k=exponential_max_finder(n-x)\n",
    "    if k*x>m:\n",
    "      m=k*x\n",
    "    elif (n-x)*x>m:\n",
    "      m=(n-x)*x\n",
    "  return m"
   ]
  },
  {
   "cell_type": "markdown",
   "id": "dfc479d2",
   "metadata": {},
   "source": [
    "The algorithm breaks the number n into two parts in all possible ways, dividing n into x and n-x.\n",
    "After which it recalls itself for n-x, so as to consider the maximum number obtainable for all numbers smaller than it.\n",
    "Finally at each passage it updates m if possible with the maximum between k * x and (n-x) * x."
   ]
  },
  {
   "cell_type": "markdown",
   "id": "a8d415a0",
   "metadata": {},
   "source": [
    "Show that the algorithm has exponential running time."
   ]
  },
  {
   "cell_type": "markdown",
   "id": "7a7ba5df",
   "metadata": {},
   "source": [
    "$$ T(n)=\\sum_{i=1}^{n-1}T(n-i)=T(n-1)+T(n-2)+\\dots+T(1)=\\sum_{i=1}^{n-2}T(n-i)+ \\sum_{i=1}^{n-3} T(n-i)+\\dots+T(1)\\geq$$\n",
    "$$\\geq (n-2)T(1)+(n-3)T(1)+\\dots+2T(1)+T(1)\\geq2T(1)+2T(1)+\\dots+2T(1)+T(1)=2^{n-3}T(1)+T(1) $$\n",
    "$$ T(n)=O(2^n) $$"
   ]
  },
  {
   "cell_type": "markdown",
   "id": "7356f55e",
   "metadata": {},
   "source": [
    "Now provide a polynomial solution, based on dynamic programming, and compute its running-time complexity."
   ]
  },
  {
   "cell_type": "code",
   "execution_count": 5,
   "id": "b7549e8f",
   "metadata": {},
   "outputs": [],
   "source": [
    "def linear_max_finder(n):\n",
    "  if n==2:\n",
    "    return 1\n",
    "  if n==3:\n",
    "    return 2  \n",
    "  step=np.arange(n+1)\n",
    "  for x in range(2,n+1):\n",
    "    for y in range(1,x):\n",
    "      step[x]=max(step[x], y*(x-y), y*step[x-y], step[y]*(x-y), step[y]*step[x-y])\n",
    "  return step[n]"
   ]
  },
  {
   "cell_type": "markdown",
   "id": "5e15f422",
   "metadata": {},
   "source": [
    "$$ T(n)=(n-2)\\sum_{y=1}^x(n-y)\\geq (n-2)(n-x) * x $$\n",
    "$$ T(n)=O(n^2) $$"
   ]
  },
  {
   "cell_type": "markdown",
   "id": "599f037a",
   "metadata": {},
   "source": [
    "Evaluate the running time of your algorithm for the sizes (Ns) in the range of [2, 25], plot the results, and interpret it (if you have implemented two algorithms, please include both in the plot and compare them)."
   ]
  },
  {
   "cell_type": "code",
   "execution_count": 60,
   "id": "650436fd",
   "metadata": {},
   "outputs": [],
   "source": [
    "result_lin_y=np.zeros(24)\n",
    "result_lin_x=np.zeros(24)\n",
    "for i in range(2,26):\n",
    "  result_lin_y[i-2] = timeit.timeit(stmt='linear_max_finder(i)', globals=globals(), number=1)\n",
    "  result_lin_x[i-2] = i\n",
    "result_exp_y=np.zeros(24)\n",
    "result_exp_x=np.zeros(24)\n",
    "for i in range(2,26):\n",
    "  result_exp_y[i-2] = timeit.timeit(stmt='exponential_max_finder(i)', globals=globals(), number=1)\n",
    "  result_exp_x[i-2] = i"
   ]
  },
  {
   "cell_type": "code",
   "execution_count": 62,
   "id": "c1479f38",
   "metadata": {},
   "outputs": [
    {
     "data": {
      "text/plain": [
       "<BarContainer object of 24 artists>"
      ]
     },
     "execution_count": 62,
     "metadata": {},
     "output_type": "execute_result"
    },
    {
     "data": {
      "image/png": "[encoded data removed]",
      "text/plain": [
       "<Figure size 432x288 with 1 Axes>"
      ]
     },
     "metadata": {
      "needs_background": "light"
     },
     "output_type": "display_data"
    }
   ],
   "source": [
    "plt.bar(result_exp_x,result_exp_y)"
   ]
  },
  {
   "cell_type": "code",
   "execution_count": 61,
   "id": "4b335aff",
   "metadata": {},
   "outputs": [
    {
     "data": {
      "text/plain": [
       "<BarContainer object of 24 artists>"
      ]
     },
     "execution_count": 61,
     "metadata": {},
     "output_type": "execute_result"
    },
    {
     "data": {
      "image/png": "[encoded data removed]",
      "text/plain": [
       "<Figure size 432x288 with 1 Axes>"
      ]
     },
     "metadata": {
      "needs_background": "light"
     },
     "output_type": "display_data"
    }
   ],
   "source": [
    "plt.bar(result_lin_x, result_lin_y)"
   ]
  },
  {
   "cell_type": "markdown",
   "id": "5b501e37",
   "metadata": {},
   "source": [
    "From the graphs it is clear how the running time of the first algorithm has an exponential growth with respect to N, while the second has a polynomial growth."
   ]
  },
  {
   "cell_type": "markdown",
   "id": "795384d2",
   "metadata": {},
   "source": [
    "(Optional, mini bonus) Is the algorithm of question 3 optimal? If you belive it, can you prove it? If not, can you find a faster algorithm? In case you found a faster algorithm implement it and explain your algorithm in detail."
   ]
  },
  {
   "cell_type": "markdown",
   "id": "d9c5cdef",
   "metadata": {},
   "source": [
    "I prove that the result can be obtained in constant time.\n",
    "I divide n into $ n / x $ equal parts of length x, the product of these parts will be $x^{n/x}$.\n",
    "To know for what value of x this product is maximum I study the derivative:\n",
    "$$(x^{n/x})'=x^{n/x}(-\\frac{n}{x^2}ln(x)+\\frac{n}{x^2})=x^{n/x}\\frac{n}{x^2}(1-ln(x)) $$\n",
    "$$ x^{n/x}\\frac{n}{x^2}(1-ln(x))=0 <=> 1-ln(x)=0 <=> x=e $$\n",
    "$e$ is not an integer but $2<e<3$ so I should break n into parts of length 2 or 3.\n",
    "I also observe that whenever I have 3 parts of length 2 their product is 8, so I should take two parts of length 3 ($3*3=9$).\n",
    "So to maximize the product it is better to break n into parts of length 3 and at most two parts of length 2."
   ]
  },
  {
   "cell_type": "code",
   "execution_count": 64,
   "id": "21006fa3",
   "metadata": {},
   "outputs": [],
   "source": [
    "def constant_max_finder(n):\n",
    "    if n==2:\n",
    "        return 1\n",
    "    if n==3:\n",
    "        return 2\n",
    "    if n%3==0:\n",
    "        return 3**(n//3)\n",
    "    elif n%3==1:\n",
    "        return 3**(n//3-1)*2*2\n",
    "    else:\n",
    "        return 3**(n//3)*2"
   ]
  }
 ],
 "metadata": {
  "kernelspec": {
   "display_name": "Python 3 (ipykernel)",
   "language": "python",
   "name": "python3"
  },
  "language_info": {
   "codemirror_mode": {
    "name": "ipython",
    "version": 3
   },
   "file_extension": ".py",
   "mimetype": "text/x-python",
   "name": "python",
   "nbconvert_exporter": "python",
   "pygments_lexer": "ipython3",
   "version": "3.9.12"
  }
 },
 "nbformat": 4,
 "nbformat_minor": 5
}
